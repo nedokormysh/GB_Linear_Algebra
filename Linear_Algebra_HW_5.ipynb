{
  "nbformat": 4,
  "nbformat_minor": 0,
  "metadata": {
    "colab": {
      "name": "Linear_Algebra_HW_5.ipynb",
      "provenance": [],
      "authorship_tag": "ABX9TyNnpAjitv6oPZS3VsKAqIEa",
      "include_colab_link": true
    },
    "kernelspec": {
      "name": "python3",
      "display_name": "Python 3"
    },
    "language_info": {
      "name": "python"
    }
  },
  "cells": [
    {
      "cell_type": "markdown",
      "metadata": {
        "id": "view-in-github",
        "colab_type": "text"
      },
      "source": [
        "<a href=\"https://colab.research.google.com/github/nedokormysh/GB_Linear_Algebra/blob/lesson5/Linear_Algebra_HW_5.ipynb\" target=\"_parent\"><img src=\"https://colab.research.google.com/assets/colab-badge.svg\" alt=\"Open In Colab\"/></a>"
      ]
    },
    {
      "cell_type": "code",
      "metadata": {
        "id": "AX5v1EMRyCQh"
      },
      "source": [
        "import numpy as np\n",
        "np.set_printoptions(precision=2, suppress=True)"
      ],
      "execution_count": null,
      "outputs": []
    },
    {
      "cell_type": "markdown",
      "metadata": {
        "id": "f0tLPeBHEoJ9"
      },
      "source": [
        "1. Найти с помощью NumPy SVD для матрицы\n",
        "\n",
        "$$\\begin{pmatrix}\n",
        "1 & 2 & 0\\\\ \n",
        "0 & 0 & 5\\\\ \n",
        "3 & -4 & 2\\\\ \n",
        "1 & 6 & 5\\\\ \n",
        "0 & 1 & 0\n",
        "\\end{pmatrix}.$$\n",
        "\n"
      ]
    },
    {
      "cell_type": "code",
      "metadata": {
        "id": "9HjMVpRHE2mI",
        "colab": {
          "base_uri": "https://localhost:8080/"
        },
        "outputId": "c9b46d8e-5623-4119-ae7d-a25d7f00e234"
      },
      "source": [
        "A = np.array([[1, 2, 0], [0, 0, 5], [3, -4, 2], [1, 6, 5], [0, 1, 0]])\n",
        "print(f'A = \\n{A}')\n",
        "\n",
        "U, s, W = np.linalg.svd(A)\n",
        "\n",
        "V = W.T\n",
        "\n",
        "D = np.zeros_like(A, dtype=float)\n",
        "D[np.diag_indices(min(A.shape))] = s\n",
        "\n",
        "print(f'U = \\n{U} \\n D = \\n{D} \\n V = \\n{W.T}')"
      ],
      "execution_count": null,
      "outputs": [
        {
          "output_type": "stream",
          "name": "stdout",
          "text": [
            "A = \n",
            "[[ 1  2  0]\n",
            " [ 0  0  5]\n",
            " [ 3 -4  2]\n",
            " [ 1  6  5]\n",
            " [ 0  1  0]]\n",
            "U = \n",
            "[[ 0.17  0.16 -0.53 -0.8  -0.16]\n",
            " [ 0.39 -0.53  0.61 -0.43  0.03]\n",
            " [-0.14 -0.82 -0.52  0.14  0.07]\n",
            " [ 0.89  0.06 -0.25  0.38 -0.06]\n",
            " [ 0.08  0.11 -0.08 -0.11  0.98]] \n",
            " D = \n",
            "[[8.82 0.   0.  ]\n",
            " [0.   6.14 0.  ]\n",
            " [0.   0.   2.53]\n",
            " [0.   0.   0.  ]\n",
            " [0.   0.   0.  ]] \n",
            " V = \n",
            "[[ 0.07 -0.37 -0.93]\n",
            " [ 0.72  0.67 -0.21]\n",
            " [ 0.69 -0.65  0.31]]\n"
          ]
        }
      ]
    },
    {
      "cell_type": "code",
      "metadata": {
        "colab": {
          "base_uri": "https://localhost:8080/"
        },
        "id": "afasyAHTOk4c",
        "outputId": "22d2ee88-e8ed-400b-f286-eb3a27fcdd08"
      },
      "source": [
        "print(np.dot(U.T, U))"
      ],
      "execution_count": null,
      "outputs": [
        {
          "output_type": "stream",
          "name": "stdout",
          "text": [
            "[[ 1.  0. -0. -0. -0.]\n",
            " [ 0.  1.  0.  0.  0.]\n",
            " [-0.  0.  1. -0. -0.]\n",
            " [-0.  0. -0.  1. -0.]\n",
            " [-0.  0. -0. -0.  1.]]\n"
          ]
        }
      ]
    },
    {
      "cell_type": "code",
      "metadata": {
        "colab": {
          "base_uri": "https://localhost:8080/"
        },
        "id": "c7FAvZmBOuu1",
        "outputId": "4fbd45a7-c998-4097-dde2-a1c4461fbb89"
      },
      "source": [
        "print(np.dot(np.dot(U, D), V.T))"
      ],
      "execution_count": null,
      "outputs": [
        {
          "output_type": "stream",
          "name": "stdout",
          "text": [
            "[[ 1.  2.  0.]\n",
            " [ 0. -0.  5.]\n",
            " [ 3. -4.  2.]\n",
            " [ 1.  6.  5.]\n",
            " [-0.  1. -0.]]\n"
          ]
        }
      ]
    },
    {
      "cell_type": "markdown",
      "metadata": {
        "id": "yMjhU7ldX1CZ"
      },
      "source": [
        "2. Для матрицы из предыдущего задания найти:\n",
        "\n",
        "    а) евклидову норму;\n",
        "    \n",
        "    б) норму Фробениуса."
      ]
    },
    {
      "cell_type": "code",
      "metadata": {
        "colab": {
          "base_uri": "https://localhost:8080/"
        },
        "id": "5MJZnk8lZSyR",
        "outputId": "0c1df47f-94f1-4494-9bc9-6cbab9883c27"
      },
      "source": [
        "# Euklides\n",
        "\n",
        "print(f'Норма eвклидова норма numpy = {np.linalg.norm(A, ord=2)}')\n",
        "print(f'Норма eвклидова норма как первый элемент диагональной матрицы = {s[0]}')"
      ],
      "execution_count": null,
      "outputs": [
        {
          "output_type": "stream",
          "name": "stdout",
          "text": [
            "Норма eвклидова норма numpy = 8.824868854820444\n",
            "Норма eвклидова норма как первый элемент диагональной матрицы = 8.824868854820442\n"
          ]
        }
      ]
    },
    {
      "cell_type": "code",
      "metadata": {
        "colab": {
          "base_uri": "https://localhost:8080/"
        },
        "id": "OdhMd2lcSczv",
        "outputId": "99871f64-a104-4e2f-8513-e77f25e4ddd6"
      },
      "source": [
        "# Frobenius\n",
        "\n",
        "summ = 0\n",
        "for i in range(0, np.shape(A)[0]):\n",
        "  for j in range(0, np.shape(A)[1]):\n",
        "    summ += A[i][j]**2\n",
        "\n",
        "frob1 = np.sqrt(summ)\n",
        "\n",
        "frob2 = np.sqrt(np.sum([(el**2) for el in s]))\n",
        "\n",
        "print(f'Норма Фробениуса numpy = {np.linalg.norm(A, ord=\"fro\")}')\n",
        "print(f'Норма Фробениуса корень из суммы квадратов всех элеметов матрицы А = {frob1}\\nНорма Фробениуса как корень из суммы квадтратов диагональной элементов диагональной матрицы. = {frob2}')"
      ],
      "execution_count": null,
      "outputs": [
        {
          "output_type": "stream",
          "name": "stdout",
          "text": [
            "Норма Фробениуса numpy = 11.045361017187261\n",
            "Норма Фробениуса корень из суммы квадратов всех элеметов матрицы А = 11.045361017187261\n",
            "Норма Фробениуса как корень из суммы квадтратов диагональной элементов диагональной матрицы. = 11.045361017187261\n"
          ]
        }
      ]
    }
  ]
}