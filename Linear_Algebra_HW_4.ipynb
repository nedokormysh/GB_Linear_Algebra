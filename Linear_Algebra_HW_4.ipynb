{
  "nbformat": 4,
  "nbformat_minor": 0,
  "metadata": {
    "colab": {
      "name": "Linear_Algebra_HW_4.ipynb",
      "provenance": [],
      "collapsed_sections": [],
      "authorship_tag": "ABX9TyOYQg96yEJKs/82h/jIUX2g",
      "include_colab_link": true
    },
    "kernelspec": {
      "display_name": "Python 3",
      "name": "python3"
    },
    "language_info": {
      "name": "python"
    }
  },
  "cells": [
    {
      "cell_type": "markdown",
      "metadata": {
        "id": "view-in-github",
        "colab_type": "text"
      },
      "source": [
        "<a href=\"https://colab.research.google.com/github/nedokormysh/GB_Linear_Algebra/blob/lesson4/Linear_Algebra_HW_4.ipynb\" target=\"_parent\"><img src=\"https://colab.research.google.com/assets/colab-badge.svg\" alt=\"Open In Colab\"/></a>"
      ]
    },
    {
      "cell_type": "code",
      "metadata": {
        "id": "3LzFLGsPXzQA"
      },
      "source": [
        "import numpy as np\n",
        "from numpy import linalg as la\n",
        "import scipy\n",
        "import scipy.linalg"
      ],
      "execution_count": 4,
      "outputs": []
    },
    {
      "cell_type": "markdown",
      "metadata": {
        "id": "cEXPOc1VFVJa"
      },
      "source": [
        "__1.__ Решить систему уравнений методом Гаусса:\n",
        "\n",
        "$$\\begin{cases}\n",
        "x_{1}+x_{2}-x_{3}-2x_{4}=0, \\\\\n",
        "2x_{1}+x_{2}-x_{3}+x_{4}=-2, \\\\\n",
        "x_{1}+x_{2}-3x_{3}+x_{4}=4.\n",
        "\\end{cases}$$\n",
        "\n",
        "\n",
        "$$\\begin{pmatrix}\n",
        "\\left.\\begin{matrix}\n",
        "1 & 1 & -1 & -2  \\\\ \n",
        "2 & 1 & -1 & 1 \\\\\n",
        "1 & 1 & -3 & 1\n",
        "\\end{matrix}\\right|\n",
        "\\begin{matrix}\n",
        "0\\\\ \n",
        "-2\\\\\n",
        "4\n",
        "\\end{matrix}\n",
        "\\end{pmatrix}$$\n",
        "\n",
        "Вычтем из второй строки удвоенную первую строку. И из третьей вычтем первую.\n",
        "\n",
        "$$\\begin{pmatrix}\n",
        "\\left.\\begin{matrix}\n",
        "1 & 1 & -1 & -2  \\\\ \n",
        "0 & -1 & 1 & 5 \\\\\n",
        "0 & 0 & -2 & 3\n",
        "\\end{matrix}\\right|\n",
        "\\begin{matrix}\n",
        "0\\\\ \n",
        "-2\\\\\n",
        "4\n",
        "\\end{matrix}\n",
        "\\end{pmatrix}$$\n",
        "\n",
        "\n",
        "$$\\begin{cases}\n",
        "x_{1} + x_2 - x_3 - 2x_{4} = 0 \\\\\n",
        "-x_{2} + x_{3} + 5x_{4} = -2 \\\\\n",
        "-2x_3 + 3x_4 = 4\n",
        "\\end{cases}$$\n",
        "\n",
        "Система имеет бесконечное множество решений\n",
        "\n",
        "$$x_4 = c$$\n",
        "$$x_3 = \\frac{3c - 4}{2}$$\n",
        "$$x_2 = \\frac{3c - 4}{2} + 5 c +2 = \\frac{13}{2}c$$\n",
        "$$x_1 = - \\frac{13}{2}c + \\frac{3c - 4}{2} + 2 c = -3 c - 2$$\n",
        "\n",
        "$$\\begin{cases}\n",
        "x_1 = -3 c - 2 \\\\\n",
        "x_2 = \\frac{13}{2}c \\\\\n",
        "x_3 = \\frac{3c - 4}{2} \\\\\n",
        "x_4 = c\n",
        "\\end{cases}$$"
      ]
    },
    {
      "cell_type": "markdown",
      "metadata": {
        "id": "68uV0Mi_XwwW"
      },
      "source": [
        "__2.__ Проверить на совместность и выяснить, сколько решений будет иметь система линейных уравнений:\n",
        "\n",
        "   а) $\\begin{cases}\n",
        "3x_{1}-x_{2}+x_{3}=4, \\\\\n",
        "2x_{1}-5x_{2}-3x_{3}=-17, \\\\\n",
        "x_{1}+x_{2}-x_{3}=0;\n",
        "\\end{cases}$\n",
        "\n",
        "Матрица коэффициентов А$${A}=\\begin{pmatrix}\n",
        "3 & -1 & 1 \\\\ \n",
        "2 & -5 & -3\\\\ \n",
        "1 & 1 & -1\n",
        "\\end{pmatrix}.$$\n",
        "\n",
        "Нет линейно зависимых строк. Следовательно ранг матрицы = 3.\n",
        "\n",
        "Расширенная матрица:$$\\tilde{A}=\\begin{pmatrix}\n",
        "\\left.\\begin{matrix}\n",
        "3 & -1 & 1 \\\\ \n",
        "2 & -5 & -3\\\\ \n",
        "1 & 1 & -1\n",
        "\\end{matrix}\\right|\n",
        "\\begin{matrix}\n",
        "4\\\\ \n",
        "-17\\\\\n",
        "0\n",
        "\\end{matrix}\n",
        "\\end{pmatrix}.$$\n",
        "\n",
        "Ранг расширенной матрицы также равен 3.\n",
        "\n",
        "$$rank A = rank \\tilde A = 3.$$ \n",
        "\n",
        "Система определена. Имеет единственное решение.\n"
      ]
    },
    {
      "cell_type": "code",
      "metadata": {
        "id": "x3Q7d4yLzOvc"
      },
      "source": [
        "def K_K(A, A_t):  \n",
        "  if (la.matrix_rank(A) == la.matrix_rank(A_t) and la.matrix_rank(A_t) == np.shape(A)[1]):\n",
        "    return 'Система совместна, определена. Имеет единственное решение.'\n",
        "  elif (la.matrix_rank(A) == la.matrix_rank(A_t) and la.matrix_rank(A_t) < np.shape(A)[1]):\n",
        "    return 'Система совместна. Имеет бесконечное количество решений'\n",
        "  elif(la.matrix_rank(A) < la.matrix_rank(A_t)):\n",
        "    return 'Система несовместна'"
      ],
      "execution_count": 5,
      "outputs": []
    },
    {
      "cell_type": "code",
      "metadata": {
        "colab": {
          "base_uri": "https://localhost:8080/"
        },
        "id": "EBNsY7Ilv-TA",
        "outputId": "c2079206-1a62-43dd-e0ac-56330d6906a0"
      },
      "source": [
        "A = np.array([[3, -1, 1], [2, -5, -3], [1, 1, -1]])\n",
        "A_t = np.array([[3, -1, 1, 4], [2, -5, -3, -17], [1, 1, -1, 0]])\n",
        "\n",
        "# print(f'Ранг А = {la.matrix_rank(A), la.matrix_rank(A_t)}')\n",
        "print(K_K(A, A_t))"
      ],
      "execution_count": 6,
      "outputs": [
        {
          "output_type": "stream",
          "name": "stdout",
          "text": [
            "Система совместна, определена. Имеет единственное решение.\n"
          ]
        }
      ]
    },
    {
      "cell_type": "markdown",
      "metadata": {
        "id": "jcKhX6IcwB3p"
      },
      "source": [
        "б) $\\begin{cases}\n",
        "2x_{1}-4x_{2}+6x_{3}=1, \\\\\n",
        "x_{1}-2x_{2}+3x_{3}=-2, \\\\\n",
        "3x_{1}-6x_{2}+9x_{3}=5;\n",
        "\\end{cases}$\n",
        "\n",
        "Матрица коэффициентов А$${A}=\\begin{pmatrix}\n",
        "2 & -4 & 6 \\\\ \n",
        "1 & -2 & 3\\\\ \n",
        "3 & -6 & 9\n",
        "\\end{pmatrix}.$$\n",
        "\n",
        "Ранг матрицы коэффициентов равен 1, т.к. первая и вторая, и вторая и третья строки линейно зависимы.\n",
        "\n",
        "Расширенная матрица:$$\\tilde{A}=\\begin{pmatrix}\n",
        "\\left.\\begin{matrix}\n",
        "2 & -4 & 6 \\\\ \n",
        "1 & -2 & 3\\\\ \n",
        "3 & -6 & 9\n",
        "\\end{matrix}\\right|\n",
        "\\begin{matrix}\n",
        "1\\\\ \n",
        "-2\\\\\n",
        "5\n",
        "\\end{matrix}\n",
        "\\end{pmatrix}.$$\n",
        "\n",
        "Ранг расширенной матрицы равен 3, т.к. нет линейно зависимых строк.\n",
        "\n",
        "$$rankA<rank \\tilde A$$ Система несовместна."
      ]
    },
    {
      "cell_type": "code",
      "metadata": {
        "colab": {
          "base_uri": "https://localhost:8080/"
        },
        "id": "Tkv0Ug4wzSh4",
        "outputId": "9ad2e4e4-9332-4cd2-9488-66a7cf9d6752"
      },
      "source": [
        "A = np.array([[2, -4, 6], [1, -2, 3], [3, -6, 9]])\n",
        "A_t = np.array([[2, -4, 6, 1], [1, -2, 3, -2], [3, -6, 9, 5]])\n",
        "\n",
        "print(K_K(A, A_t))"
      ],
      "execution_count": 7,
      "outputs": [
        {
          "output_type": "stream",
          "name": "stdout",
          "text": [
            "Система несовместна\n"
          ]
        }
      ]
    },
    {
      "cell_type": "markdown",
      "metadata": {
        "id": "f5TKqhwv6hUR"
      },
      "source": [
        "в) $\\begin{cases}\n",
        "x_{1}+2x_{2}+5x_{3}=4, \\\\\n",
        "3x_{1}+x_{2}-8x_{3}=-2. \n",
        "\\end{cases}$\n",
        "\n",
        "Матрица коэффициентов А$${A}=\\begin{pmatrix}\n",
        "1 & 2 & 5 \\\\ \n",
        "3 & 1 & -8\n",
        "\\end{pmatrix}.$$\n",
        "\n",
        "Нет линейно зависимых строк. Ранг матрицы равен 2.\n",
        "\n",
        "Расширенная матрица:$$\\tilde{A}=\\begin{pmatrix}\n",
        "\\left.\\begin{matrix}\n",
        "1 & 2 & 5 \\\\ \n",
        "3 & 1 & -8\n",
        "\\end{matrix}\\right|\n",
        "\\begin{matrix}\n",
        "4\\\\ \n",
        "-2\\\\\n",
        "\\end{matrix}\n",
        "\\end{pmatrix}.$$\n",
        "\n",
        "Ранг расширенной матрицы равен 2.\n",
        "\n",
        "Количество неизвестных $=3 >$ число уравнений. \n",
        "\n",
        "$rankA=rank \\tilde A<n$, то система имеет бесконечное количество решений;<br>"
      ]
    },
    {
      "cell_type": "code",
      "metadata": {
        "colab": {
          "base_uri": "https://localhost:8080/"
        },
        "id": "KZ_K3byf7ue8",
        "outputId": "648a9572-d573-444b-fa5c-7c5db11a4b3d"
      },
      "source": [
        "A = np.array([[1, 2, 5], [3, 1, -8]])\n",
        "A_t = np.array([[1, 2, 5, 4], [3, 1, -8, -2]])\n",
        "\n",
        "print(K_K(A, A_t))"
      ],
      "execution_count": 8,
      "outputs": [
        {
          "output_type": "stream",
          "name": "stdout",
          "text": [
            "Система совместна. Имеет бесконечное количество решений\n"
          ]
        }
      ]
    },
    {
      "cell_type": "markdown",
      "metadata": {
        "id": "SUs44leJ8wWo"
      },
      "source": [
        "__3.__ Проверить на совместность и выяснить, сколько решений будет иметь система линейных уравнений, заданная расширенной матрицей\n",
        "\n",
        "$$\\tilde{A}=\\begin{pmatrix}\n",
        "\\left.\\begin{matrix}\n",
        "1 & 3 & -2 & 4\\\\ \n",
        "0 & 5 & 0 & 1\\\\ \n",
        "0 & 0 & 3 & 0\\\\ \n",
        "0 & 0 & 0 & 2\n",
        "\\end{matrix}\\right|\n",
        "\\begin{matrix}\n",
        "3\\\\ \n",
        "2\\\\\n",
        "4\\\\\n",
        "1\n",
        "\\end{matrix}\n",
        "\\end{pmatrix}.$$\n",
        "\n",
        "Ранг матрицы коэффициентов равен рангу расширенной матрицы = 4. Количество неизвестных = 4. Таким образом система совместна и имеет одно единственное решение."
      ]
    },
    {
      "cell_type": "code",
      "metadata": {
        "colab": {
          "base_uri": "https://localhost:8080/"
        },
        "id": "zG7hMsOq9bpm",
        "outputId": "f75fe51c-7ef8-4deb-e0bd-f57f1af0719e"
      },
      "source": [
        "A = np.array([[1, 3, 2, 4], [0, 5, 0, 1], [0, 0, 3, 0], [0, 0, 0, 2]])\n",
        "b = np.array([[3], [2], [4], [1]])\n",
        "A_t = np.hstack((A, b))\n",
        "\n",
        "# print(A_t)\n",
        "\n",
        "print(K_K(A, A_t))"
      ],
      "execution_count": 9,
      "outputs": [
        {
          "output_type": "stream",
          "name": "stdout",
          "text": [
            "Система совместна, определена. Имеет единственное решение.\n"
          ]
        }
      ]
    },
    {
      "cell_type": "markdown",
      "metadata": {
        "id": "REE0gYRZA-ZT"
      },
      "source": [
        "__4.__ Дана система линейных уравнений, заданная расширенной матрицей\n",
        "\n",
        "$$\\tilde{A}=\\begin{pmatrix}\n",
        "\\left.\\begin{matrix}\n",
        "1 & 2 & 3\\\\ \n",
        "4 & 5 & 6\\\\ \n",
        "7 & 8 & 9\n",
        "\\end{matrix}\\right|\n",
        "\\begin{matrix}\n",
        "a\\\\ \n",
        "b\\\\\n",
        "c\n",
        "\\end{matrix}\n",
        "\\end{pmatrix}.$$\n",
        "\n",
        "Найти соотношение между параметрами $a$, $b$ и $c$, при которых система является несовместной.\n",
        "\n",
        "$$\\tilde{A}=\\begin{pmatrix}\n",
        "\\left.\\begin{matrix}\n",
        "1 & 2 & 3\\\\ \n",
        "4 & 5 & 6\\\\ \n",
        "7 & 8 & 9\n",
        "\\end{matrix}\\right|\n",
        "\\begin{matrix}\n",
        "a\\\\ \n",
        "b\\\\\n",
        "c\n",
        "\\end{matrix}\n",
        "\\end{pmatrix} =\n",
        "\\begin{pmatrix}\n",
        "\\left.\\begin{matrix}\n",
        "1 & 2 & 3\\\\ \n",
        "0 & -3 & -6\\\\ \n",
        "0 & -6 & -12\n",
        "\\end{matrix}\\right|\n",
        "\\begin{matrix}\n",
        "a\\\\ \n",
        "b - 4a\\\\\n",
        "c - 7a\n",
        "\\end{matrix}\n",
        "\\end{pmatrix} =\n",
        "\\begin{pmatrix}\n",
        "\\left.\\begin{matrix}\n",
        "1 & 2 & 3\\\\ \n",
        "0 & -3 & -6\\\\ \n",
        "0 & 0 & 0\n",
        "\\end{matrix}\\right|\n",
        "\\begin{matrix}\n",
        "a\\\\ \n",
        "b - 4a\\\\\n",
        "c - 2b + a\n",
        "\\end{matrix}\n",
        "\\end{pmatrix}$$\n",
        "\n",
        "Ранг матрицы коэффициентов = 2. Для несовместности системы требуется, чтобы ранг расширенной матрицы был больше, чем ранг матрицы коэффициентов. Из этого следует, что при c - 2b + a $\\neq$ 0 наша система будет несовместной.\n"
      ]
    },
    {
      "cell_type": "code",
      "metadata": {
        "colab": {
          "base_uri": "https://localhost:8080/"
        },
        "id": "1f7qVYFSG2UP",
        "outputId": "47207b2c-5c49-49f8-8057-9b7df4ac0cc9"
      },
      "source": [
        "A = np.array([[1, 2, 3], [4, 5, 6], [7, 8, 9]])\n",
        "\n",
        "print(f'Ранг А = {la.matrix_rank(A)}')"
      ],
      "execution_count": 10,
      "outputs": [
        {
          "output_type": "stream",
          "name": "stdout",
          "text": [
            "Ранг А = 2\n"
          ]
        }
      ]
    },
    {
      "cell_type": "markdown",
      "metadata": {
        "id": "WIQxPD-mPmTw"
      },
      "source": [
        "# Системы линейных уравнений. Часть 2"
      ]
    },
    {
      "cell_type": "markdown",
      "metadata": {
        "id": "H3fcZrQBPlaa"
      },
      "source": [
        "__1.__ Решить систему уравнений методом Крамера:\n",
        "\n",
        "   а) $\\begin{cases}\n",
        "x_{1}-2x_{2}=1 \\\\\n",
        "3x_{1}-4x_{2}=7\n",
        "\\end{cases}$\n",
        "    \n",
        "$$detA = \\begin{vmatrix}\n",
        "1 & -2\\\\ \n",
        "3 & -4\\\\ \n",
        "\\end{vmatrix} = -4 + 6 = 2  \\neq 0$$\n",
        "\n",
        "Cистема совместна.\n",
        "\n",
        "$$detA_1 = \\begin{vmatrix}\n",
        "1 & -2\\\\ \n",
        "7 & -4\\\\ \n",
        "\\end{vmatrix} = -4 + 14 = 10$$\n",
        "\n",
        "$$$$\n",
        "$$detA_2 = \\begin{vmatrix}\n",
        "1 & 1\\\\ \n",
        "3 & 7\\\\ \n",
        "\\end{vmatrix} = 7 - 3 = 4$$\n",
        "\n",
        "$$$$\n",
        "$$x_{1} = \\frac{detA_{1}}{detA} = \\frac{10}{2} = 5$$\n",
        "<br>\n",
        "$$x_{2} = \\frac{detA_{2}}{detA} = \\frac{4}{2} = 2$$"
      ]
    },
    {
      "cell_type": "code",
      "metadata": {
        "colab": {
          "base_uri": "https://localhost:8080/"
        },
        "id": "EKqe8iseQihg",
        "outputId": "d7fb93fc-ad19-4b90-f570-ef5627de0918"
      },
      "source": [
        "A = np.array([[1,-2],[3,-4]])\n",
        "A1 = np.array([[1, -2],[7, -4]])\n",
        "A2 = np.array([[1, 1],[3, 7]])\n",
        "\n",
        "detA = la.det(A)\n",
        "detA_1 = la.det(A1)\n",
        "detA_2 = la.det(A2)\n",
        "\n",
        "x_1 = round(detA_1 / detA, 1)\n",
        "x_2 = round(detA_2 / detA, 1)\n",
        "\n",
        "print(f'x_1 = {x_1}, x_2 = {x_2}')"
      ],
      "execution_count": null,
      "outputs": [
        {
          "name": "stdout",
          "output_type": "stream",
          "text": [
            "x_1 = 5.0, x_2 = 2.0\n"
          ]
        }
      ]
    },
    {
      "cell_type": "code",
      "metadata": {
        "id": "AvLe9mExQROQ"
      },
      "source": [
        "# a = np.array([[1, -2],[3, -4]])\n",
        "# b = np.array([1, 7])\n",
        "\n",
        "# np.linalg.solve(a,b)"
      ],
      "execution_count": null,
      "outputs": []
    },
    {
      "cell_type": "markdown",
      "metadata": {
        "id": "GEbwlwB2QWK4"
      },
      "source": [
        "б) $\\begin{cases}\n",
        "2x_{1}-x_{2}+5x_{3}=10 \\\\\n",
        "x_{1}+x_{2}-3x_{3}=-2 \\\\\n",
        "2x_{1}+4x_{2}+x_{3}=1\n",
        "\\end{cases}$"
      ]
    },
    {
      "cell_type": "markdown",
      "metadata": {
        "id": "tT8gf56qTbUD"
      },
      "source": [
        "$$detA=\\begin{vmatrix}\n",
        "2 & -1 & 5\\\\ \n",
        "1 & 1 & -3\\\\ \n",
        "2 & 4 & 1\n",
        "\\end{vmatrix} = 2 \\cdot 1 \\cdot 1 + (-1) \\cdot (-3) \\cdot 2 + 5 \\cdot 1 \\cdot 4 - 2 \\cdot 1 \\cdot 5 - 4 \\cdot (-3) \\cdot 2 - 1 \\cdot 1 \\cdot(-1) = 28 + 15  = 43  \\neq 0,$$\n",
        "\n",
        "Система совместна.\n",
        "\n",
        "$$detA_1 = \\begin{vmatrix}\n",
        "10 & -1 & 5\\\\ \n",
        "-2 & 1 & -3\\\\ \n",
        "1 & 4 & 1\n",
        "\\end{vmatrix} = 10 \\cdot 1 \\cdot 1 + (-1) \\cdot (-3) \\cdot 1 + 5 \\cdot (-2) \\cdot 4 - 1 \\cdot 1 \\cdot 5 - 4 \\cdot (-3) \\cdot 10 - 1 \\cdot (-2) \\cdot (-1) = 28 + 15  =  86$$\n",
        "$$$$\n",
        "$$x_1 = 2$$\n",
        "\n",
        "$$detA_2 = \\begin{vmatrix}\n",
        "2 & 10 & 5\\\\ \n",
        "1 & -2 & -3\\\\ \n",
        "2 & 1 & 1\n",
        "\\end{vmatrix} = 2 \\cdot (-2) \\cdot 1 + 10 \\cdot (-3) \\cdot 2 + 5 \\cdot 1 \\cdot 1 - 2 \\cdot (-2) \\cdot 5 - 1 \\cdot (-3) \\cdot 2 - 1 \\cdot 1 \\cdot 10 = -43 $$\n",
        "\n",
        "$$$$\n",
        "$$x_2 = -1$$\n",
        "$$$$\n",
        "\n",
        "$$detA_3 = \\begin{vmatrix}\n",
        "2 & -1 & 10\\\\ \n",
        "1 & 1 & -2\\\\ \n",
        "2 & 4 & 1\n",
        "\\end{vmatrix} = 2 \\cdot 1 \\cdot 1 + (-1) \\cdot (-2) \\cdot 2 + 10 \\cdot 1 \\cdot 4 - 2 \\cdot 1 \\cdot 10 - 4 \\cdot (-2) \\cdot 2 - 1 \\cdot 1 \\cdot (-1) =  43$$\n",
        "$$$$\n",
        "$$x_3 = 1$$"
      ]
    },
    {
      "cell_type": "code",
      "metadata": {
        "colab": {
          "base_uri": "https://localhost:8080/"
        },
        "id": "uE7eq1Jb-aB6",
        "outputId": "085ab091-fc5d-44cc-e9dc-634fe7b94ce3"
      },
      "source": [
        "A = np.array([[2, 1, 2], [-1, 1, 4], [5, -3, 1]])\n",
        "A1 = np.array([[10, -2, 1], [-1, 1, 4], [5, -3, 1]])\n",
        "A2 = np.array([[2, 1, 2], [10, -2, 1], [5, -3, 1]])\n",
        "A3 = np.array([[2, 1, 2], [-1, 1, 4], [10, -2, 1]])\n",
        "# B = [10, -2, 1]\n",
        "# A3 = np.hstack(((np.delete(A, np.s_[2:], 1)), (np.delete(A, np.s_[:3],1))))\n",
        "# A3 = np.hstack((A3, B))\n",
        "\n",
        "detA = la.det(A)\n",
        "detA_1 = la.det(A1)\n",
        "detA_2 = la.det(A2)\n",
        "detA_3 = la.det(A3)\n",
        "\n",
        "x_1 = round(detA_1 / detA, 1)\n",
        "x_2 = round(detA_2 / detA, 1)\n",
        "x_3 = round(detA_3 / detA, 1)\n",
        "\n",
        "print(f'x_1 = {x_1}, x_2 = {x_2}, x_3 = {x_3}')"
      ],
      "execution_count": 11,
      "outputs": [
        {
          "output_type": "stream",
          "name": "stdout",
          "text": [
            "x_1 = 2.0, x_2 = -1.0, x_3 = 1.0\n"
          ]
        }
      ]
    },
    {
      "cell_type": "code",
      "metadata": {
        "id": "KYiqQb-zX3_H"
      },
      "source": [
        "# a = np.array([[2, -1, 5],[1, 1,-3],[2, 4, 1]])\n",
        "# b = np.array([10, -2, 1])\n",
        "\n",
        "# np.linalg.solve(a,b)"
      ],
      "execution_count": null,
      "outputs": []
    },
    {
      "cell_type": "markdown",
      "metadata": {
        "id": "j9W0CrJ9YiK4"
      },
      "source": [
        "__2*.__ Найти $L$-матрицу $LU$-разложения для матрицы коэффициентов:\n",
        "\n",
        "   а)$$\\begin{pmatrix}\n",
        "1 & 2 & 4 \\\\ \n",
        "2 & 9 & 12 \\\\ \n",
        "3 & 26 & 30\n",
        "\\end{pmatrix}$$\n",
        "\n",
        "$$\\begin{pmatrix}\n",
        "1 & 2 & 4 \\\\ \n",
        "0 & 5 & 4 \\\\ \n",
        "0 & 20 & 18\n",
        "\\end{pmatrix}=\\begin{pmatrix}\n",
        "1 & 2 & 4 \\\\ \n",
        "0 & 5 & 4 \\\\ \n",
        "0 & 0 & 2\n",
        "\\end{pmatrix} = U$$\n",
        "    \n",
        "\n",
        "$$L =\\begin{pmatrix}\n",
        "1 & 0 & 0 \\\\ \n",
        "2 & 1 & 0 \\\\ \n",
        "3 & 4 & 1\n",
        "\\end{pmatrix}$$\n",
        "  "
      ]
    },
    {
      "cell_type": "code",
      "metadata": {
        "colab": {
          "base_uri": "https://localhost:8080/"
        },
        "id": "hAqT4fuwqzm3",
        "outputId": "1f4ecab3-50ed-4066-fa12-07e5345453c5"
      },
      "source": [
        "A = np.array([[1, 2, 4], [2, 9, 12], [3, 26, 30]])\n",
        "\n",
        "print(f'L = \\n{LU_solver.LU_generator(A)[0]}')\n",
        "print(f'U = \\n{LU_solver.LU_generator(A)[1]}')"
      ],
      "execution_count": 13,
      "outputs": [
        {
          "output_type": "stream",
          "name": "stdout",
          "text": [
            "L = \n",
            "[[1. 0. 0.]\n",
            " [2. 1. 0.]\n",
            " [3. 4. 1.]]\n",
            "U = \n",
            "[[1. 2. 4.]\n",
            " [0. 5. 4.]\n",
            " [0. 0. 2.]]\n"
          ]
        }
      ]
    },
    {
      "cell_type": "markdown",
      "metadata": {
        "id": "perqu3WYYkZP"
      },
      "source": [
        " б)$$\\begin{pmatrix}\n",
        "1 & 1 & 2 & 4\\\\ \n",
        "2 & 5 & 8 & 9\\\\ \n",
        "3 & 18 & 29 & 18\\\\\n",
        "4 & 22 & 53 & 33\n",
        "\\end{pmatrix}$$\n",
        "\n",
        "$$\\begin{pmatrix}\n",
        "1 & 1 & 2 & 4\\\\ \n",
        "2 & 5 & 8 & 9\\\\ \n",
        "3 & 18 & 29 & 18\\\\\n",
        "4 & 22 & 53 & 33\n",
        "\\end{pmatrix} = \\begin{pmatrix}\n",
        "1 & 1 & 2 & 4\\\\ \n",
        "0 & 3 & 4 & 1\\\\ \n",
        "0 & 15 & 23 & 6\\\\\n",
        "4 & 18 & 45 & 17\n",
        "\\end{pmatrix} = \\begin{pmatrix}\n",
        "1 & 1 & 2 & 4\\\\ \n",
        "0 & 3 & 4 & 1\\\\ \n",
        "0 & 0 & 3 & 1\\\\\n",
        "0 & 0 & 21 & 11\n",
        "\\end{pmatrix} = \\begin{pmatrix}\n",
        "1 & 1 & 2 & 4\\\\ \n",
        "0 & 3 & 4 & 1\\\\ \n",
        "0 & 0 & 3 & 1\\\\\n",
        "0 & 0 & 0 & 4\n",
        "\\end{pmatrix} = U$$$$L = \\begin{pmatrix}\n",
        "1 & 0 & 0 & 0 \\\\ \n",
        "2 & 1 & 0 & 0 \\\\ \n",
        "3 & 5 & 1 & 0 \\\\\n",
        "4 & 6 & 7 & 1\n",
        "\\end{pmatrix}$$"
      ]
    },
    {
      "cell_type": "code",
      "metadata": {
        "colab": {
          "base_uri": "https://localhost:8080/"
        },
        "id": "4rayHP4LUuwN",
        "outputId": "fcf0b884-08a1-4d14-ca55-4bd23c098ebf"
      },
      "source": [
        "A = np.array([[1, 1, 2, 4], [2, 5, 8, 9], [3, 18, 29, 18], [4, 22, 53, 33]])\n",
        "      \n",
        "print(f'L = \\n{LU_solver.LU_generator(A)[0]}')\n",
        "print(f'U = \\n{LU_solver.LU_generator(A)[1]}')"
      ],
      "execution_count": 14,
      "outputs": [
        {
          "output_type": "stream",
          "name": "stdout",
          "text": [
            "L = \n",
            "[[1. 0. 0. 0.]\n",
            " [2. 1. 0. 0.]\n",
            " [3. 5. 1. 0.]\n",
            " [4. 6. 7. 1.]]\n",
            "U = \n",
            "[[1. 1. 2. 4.]\n",
            " [0. 3. 4. 1.]\n",
            " [0. 0. 3. 1.]\n",
            " [0. 0. 0. 4.]]\n"
          ]
        }
      ]
    },
    {
      "cell_type": "markdown",
      "metadata": {
        "id": "DfyJfAY43WA8"
      },
      "source": [
        "__3*.__ Решить систему линейных уравнений методом $LU$-разложения\n",
        "\n",
        "$$\\begin{cases}\n",
        "2x_{1}+x_{2}+3x_{3}=1 \\\\\n",
        "11x_{1}+7x_{2}+5x_{3}=-6 \\\\\n",
        "9x_{1}+8x_{2}+4x_{3}=-5\n",
        "\\end{cases}$$\n",
        "\n",
        "Найдём L.\n",
        "\n",
        "$\\begin{pmatrix}\n",
        "2 & 1 & 3 \\\\ \n",
        "11 & 7 & 5 \\\\ \n",
        "9 & 8 & 4\n",
        "\\end{pmatrix} $\n",
        "\n",
        "$\\begin{pmatrix}\n",
        "2 & 1 & 3 \\\\ \n",
        "0 & \\frac{3}{2} & -\\frac{23}{2} \\\\ \n",
        "0 & 3.5 & -9.5\n",
        "\\end{pmatrix}  $\n",
        "\n",
        "$\\begin{pmatrix}\n",
        "2 & 1 & 3 \\\\ \n",
        "0 & \\frac{3}{2} & -\\frac{23}{2} \\\\ \n",
        "0 & 0 & \\frac{52}{3}\n",
        "\\end{pmatrix}  $\n",
        "\n",
        "$L =  \\begin{pmatrix}\n",
        "1 & 0 & 0 \\\\ \n",
        "l_{21} & 1 & 0 \\\\ \n",
        "l_{31} & l_{32} & 1\n",
        "\\end{pmatrix} = \\begin{pmatrix}\n",
        "1 & 0 & 0 \\\\ \n",
        "\\frac{11}{2} & 1 & 0 \\\\ \n",
        "\\frac{9}{2} & l_{32} & 1\n",
        "\\end{pmatrix} =\n",
        "\\begin{pmatrix}\n",
        "1 & 0 & 0 \\\\ \n",
        "\\frac{11}{2} & 1 & 0 \\\\ \n",
        "\\frac{9}{2} & \\frac{7}{3} & 1\n",
        "\\end{pmatrix}$\n",
        "\n",
        "\n",
        "\n",
        "$Ly = b$\n",
        "\n",
        "$$\\begin{cases}\n",
        "y_{1}=1 \\\\\n",
        "\\frac{11}{2}y_1 + y_2  =-6 \\\\\n",
        "\\frac{9}{2}y_1 +\\frac{7}{3}y_2 + y_3=-5\n",
        "\\end{cases} \\Rightarrow \n",
        "\\begin{cases}\n",
        "y_{1}=1 \\\\\n",
        "y_2  =-\\frac{23}{2} \\\\\n",
        "y_3=\\frac{52}{3}\n",
        "\\end{cases}$$\n",
        "\n",
        "$Ux = y$\n",
        "\n",
        "$$\\begin{cases}\n",
        "2x_1 + x_2 + 3x_3=1 \\\\\n",
        " \\frac{3}{2}x_2 -\\frac{23}{2}x_3  =-\\frac{23}{2} \\\\\n",
        "\\frac{52}{3}x_3=\\frac{52}{3}\n",
        "\\end{cases} \\Rightarrow\n",
        "\\begin{cases}\n",
        "x_1 = -1 \\\\\n",
        "x_2 = 0 \\\\\n",
        "x_3=1\n",
        "\\end{cases}\n",
        "$$\n"
      ]
    },
    {
      "cell_type": "code",
      "metadata": {
        "colab": {
          "base_uri": "https://localhost:8080/"
        },
        "id": "4JW6vSqqm04J",
        "outputId": "f9d28d99-41bb-4713-f841-32c03c9bc22c"
      },
      "source": [
        "A = np.array([[2, 1, 3], [11, 7, 5], [9, 8, 4]])\n",
        "B = np.array([1, -6, -5])\n",
        "print(f'x = {LU_solver.solve(A, B)}')"
      ],
      "execution_count": 15,
      "outputs": [
        {
          "output_type": "stream",
          "name": "stdout",
          "text": [
            "x = [-1. -0.  1.]\n"
          ]
        }
      ]
    },
    {
      "cell_type": "markdown",
      "metadata": {
        "id": "BTskP654yPu7"
      },
      "source": [
        "__4*.__ Решить систему линейных уравнений методом Холецкого\n",
        "\n",
        "$$\\begin{cases}\n",
        "81x_{1}-45x_{2}+45x_{3}=531 \\\\\n",
        "-45x_{1}+50x_{2}-15x_{3}=-460 \\\\\n",
        "45x_{1}-15x_{2}+38x_{3}=193\n",
        "\\end{cases}$$\n",
        "\n",
        "Произведем разложение на $LL^{T}$:\n",
        "\n",
        "$$l_{11} = \\sqrt{a_{11}} = \\sqrt{81} = 9$$\n",
        "$$l_{21} = \\frac{a_{21}}{l_{11}} = -\\frac{45}{9} = -5$$\n",
        "$$l_{31} = \\frac{a_{31}}{l_{11}} = \\frac{45}{9} = 5$$\n",
        "\n",
        "$$l_{22} = \\sqrt{a_{22}-l_{21}^{2}} = \\sqrt{50 - 25} = 5$$\n",
        "$$l_{32} = \\frac{1}{l_{22}}\\left ( a_{32}-l_{21}l_{31} \\right) = \\frac{1}{5}\\left ( -15 - (-5)\\cdot 5 \\right ) = 2$$\n",
        "\n",
        "$$l_{33}=\\sqrt{a_{33}-l_{31}^{2}-l_{32}^{2}} = \\sqrt{38 - 25 - 4} = 3.$$\n",
        "\n",
        "\n",
        "Получили матрицу \n",
        "\n",
        "$$L = \\begin{pmatrix}\n",
        "9 & 0 & 0 \\\\ \n",
        "-5 & 5 & 0 \\\\ \n",
        "5 & 2 & 3\n",
        "\\end{pmatrix}, \n",
        "\\; \\; \n",
        "L^{T} = \\begin{pmatrix}\n",
        "9 & -5 & 5 \\\\ \n",
        "0 & 5 & 2 \\\\ \n",
        "0 & 0 & 3\n",
        "\\end{pmatrix}.$$\n",
        "\n",
        "Решим систему $Ly=b:$\n",
        "\n",
        "$$\\begin{cases}\n",
        "9y_{1} = 531 \\\\\n",
        "-5y_{1} + 5y_{2} = -460 \\\\\n",
        "5y_{1} + 2y_{2} + 4y_{3} = 193.\n",
        "\\end{cases}$$\n",
        "\n",
        "$$y_{1} = 59$$\n",
        "\n",
        "$$y_{2} = - 33$$\n",
        "\n",
        "$$y_{3} = -12.$$\n",
        "\n",
        "И решим систему $L^{T}x=y:$\n",
        "\n",
        "$$\\begin{cases}\n",
        "9x_{1} - 5x_{2} + 5x_{3} = 59 \\\\\n",
        "5x_{2} + 2x_{3} = -33 \\\\\n",
        "3x_{3} = -12.\n",
        "\\end{cases}$$\n",
        "\n",
        "$$x_{3} = -4$$\n",
        "\n",
        "$$x_{2} = -5$$\n",
        "\n",
        "$$x_{1} = 6$$"
      ]
    },
    {
      "cell_type": "code",
      "metadata": {
        "colab": {
          "base_uri": "https://localhost:8080/"
        },
        "id": "CtaFlAgevDY6",
        "outputId": "d0befdf0-8e9e-4bec-d31f-a07ceec6f144"
      },
      "source": [
        "A = np.array([[81, -45, 45], [-45, 50, -15], [45, -15, 38]])\n",
        "B = np.array([531, -460, 193])\n",
        "print(f'x = {LU_solver.solve(A, B)}')"
      ],
      "execution_count": 16,
      "outputs": [
        {
          "output_type": "stream",
          "name": "stdout",
          "text": [
            "x = [ 6. -5. -4.]\n"
          ]
        }
      ]
    },
    {
      "cell_type": "markdown",
      "metadata": {
        "id": "dejd747P2ysW"
      },
      "source": [
        "__5*.__ Написать на Python программу с реализацией одного из изученных алгоритмов решения СЛАУ."
      ]
    },
    {
      "cell_type": "code",
      "metadata": {
        "id": "kKfLHtA12xdi"
      },
      "source": [
        "class LU_solver:\n",
        "  \n",
        "  def L_filler(self, L):\n",
        "    U = self\n",
        "    p = 0\n",
        "    for c in range(0, np.shape(L)[1]):\n",
        "      p += 1\n",
        "      for i in range(p, np.shape(L)[0]):\n",
        "        U = U.astype(float)\n",
        "        L[i][c] = U[i][c] / U[c][c]\n",
        "        U[i] = U[i] - L[i][c] * U[c]\n",
        "    return L, U\n",
        "\n",
        "  def LU_generator(self):\n",
        "    L = np.tri(np.shape(self)[0])\n",
        "    LU_solver.L_filler(self, L)\n",
        "    L = LU_solver.L_filler(self, L)[0]\n",
        "    U = LU_solver.L_filler(self, L)[1]\n",
        "    return L, U\n",
        "\n",
        "  def solve(self, B):\n",
        "    L, U = LU_solver.LU_generator(self)[0], LU_solver.LU_generator(self)[1]\n",
        "\n",
        "    y = np.array([1] * len(L), float)\n",
        "\n",
        "    y = np.linalg.inv(L).dot(B)\n",
        "    x = np.linalg.inv(U).dot(y)\n",
        "\n",
        "    x = np.round(x, 2)\n",
        "    return x"
      ],
      "execution_count": 12,
      "outputs": []
    }
  ]
}