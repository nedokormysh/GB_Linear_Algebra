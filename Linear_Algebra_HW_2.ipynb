{
  "nbformat": 4,
  "nbformat_minor": 0,
  "metadata": {
    "colab": {
      "name": "Linear_Algebra_HW_2.ipynb",
      "provenance": [],
      "collapsed_sections": [],
      "authorship_tag": "ABX9TyM5gEJG2qFCkJWzJ2e/sbDG",
      "include_colab_link": true
    },
    "kernelspec": {
      "name": "python3",
      "display_name": "Python 3"
    },
    "language_info": {
      "name": "python"
    }
  },
  "cells": [
    {
      "cell_type": "markdown",
      "metadata": {
        "id": "view-in-github",
        "colab_type": "text"
      },
      "source": [
        "<a href=\"https://colab.research.google.com/github/nedokormysh/GB_Linear_Algebra/blob/lesson2/Linear_Algebra_HW_2.ipynb\" target=\"_parent\"><img src=\"https://colab.research.google.com/assets/colab-badge.svg\" alt=\"Open In Colab\"/></a>"
      ]
    },
    {
      "cell_type": "code",
      "metadata": {
        "id": "VjKZojP1Y9eT"
      },
      "source": [
        "import numpy as np\n",
        "import math"
      ],
      "execution_count": 16,
      "outputs": []
    },
    {
      "cell_type": "markdown",
      "metadata": {
        "id": "CMmE7zo7Yofz"
      },
      "source": [
        "__1.__ *Установить, какие произведения матриц $AB$ и $BA$ определены, и найти размерности полученных матриц:*\n",
        "\n",
        "   а) $A$ — матрица $4\\times 2$, $B$ — матрица $4\\times 2$;\n",
        "    \n",
        "   б) $A$ — матрица $2\\times 5$, $B$ — матрица $5\\times 3$;\n",
        "    \n",
        "   в) $A$ — матрица $8\\times 3$, $B$ — матрица $3\\times 8$;\n",
        "    \n",
        "   г) $A$ — квадратная матрица $4\\times 4$, $B$ — квадратная матрица $4\\times 4$.\n"
      ]
    },
    {
      "cell_type": "markdown",
      "metadata": {
        "id": "wsOq5-wwr_qC"
      },
      "source": [
        "**Решение. **  \n",
        "а) $A$ — матрица $4\\times 2$, $B$ — матрица $4\\times 2$;<br>\n",
        "m строк n столбцов. Для перемножения требуется, чтобы количество столбцов у матрицы А совпадало с количеством столбцов у матрицы B. В данном случае это не так. Следовательно произведение матриц AB и BA в данном случае не определено."
      ]
    },
    {
      "cell_type": "code",
      "metadata": {
        "id": "iD1BVwFOd9C4",
        "colab": {
          "base_uri": "https://localhost:8080/"
        },
        "outputId": "c7df4a0a-0ebc-4899-d594-e567fc661ed9"
      },
      "source": [
        "A = np.empty((4, 2))\n",
        "B = np.empty((4, 2))\n",
        "\n",
        "# # print(np.shape(A)[1])\n",
        "# # print(np.shape(B)[0])\n",
        "\n",
        "print('Умножение AB возможно') if np.shape(A)[1] == np.shape(B)[0] else print('Умножение AB невозможно')\n",
        "print('Умножение BA возможно') if np.shape(B)[1] == np.shape(A)[0] else print('Умножение BA невозможно')"
      ],
      "execution_count": 17,
      "outputs": [
        {
          "output_type": "stream",
          "name": "stdout",
          "text": [
            "Умножение AB невозможно\n",
            "Умножение BA невозможно\n"
          ]
        }
      ]
    },
    {
      "cell_type": "markdown",
      "metadata": {
        "id": "gvHlFlmOsMcW"
      },
      "source": [
        "б) $A$ — матрица $2\\times 5$, $B$ — матрица $5\\times 3$;<br>\n",
        "\n",
        "Умножение $A$  на $B$ возможно. Должны получить матрицу $2\\times 3$. \n",
        "\n",
        "Умножение $B$  на $A$ невозможно."
      ]
    },
    {
      "cell_type": "code",
      "metadata": {
        "colab": {
          "base_uri": "https://localhost:8080/"
        },
        "id": "y1tOC6vp7O11",
        "outputId": "08fb6565-a87f-46c7-af91-3ed7da6c2859"
      },
      "source": [
        "A = np.empty((2, 5))\n",
        "B = np.empty((5, 3))\n",
        "\n",
        "print('Умножение AB возможно') if np.shape(A)[1] == np.shape(B)[0] else print('Умножение AB невозможно')\n",
        "print('Умножение BA возможно') if np.shape(B)[1] == np.shape(A)[0] else print('Умножение BA невозможно')\n",
        "\n",
        "C = np.dot(A, B)\n",
        "print(C.shape)"
      ],
      "execution_count": 18,
      "outputs": [
        {
          "output_type": "stream",
          "name": "stdout",
          "text": [
            "Умножение AB возможно\n",
            "Умножение BA невозможно\n",
            "(2, 3)\n"
          ]
        }
      ]
    },
    {
      "cell_type": "markdown",
      "metadata": {
        "id": "nM0PTRbjSf2U"
      },
      "source": [
        "в) $A$ — матрица $8\\times 3$, $B$ — матрица $3\\times 8$;\n",
        "\n",
        "Возможны оба варианта перемножения.\n",
        "\n",
        "$A \\cdot B$ даст матрицу $8 \\times 8$<br>\n",
        "$B \\cdot A$ даст матрицу $3 \\times 3$\n"
      ]
    },
    {
      "cell_type": "code",
      "metadata": {
        "colab": {
          "base_uri": "https://localhost:8080/"
        },
        "id": "bNmKjlnQdxDQ",
        "outputId": "cba9e8ac-3ce7-4fc8-9ef5-332b3660ab54"
      },
      "source": [
        "A = np.empty((8, 3))\n",
        "B = np.empty((3, 8))\n",
        "\n",
        "print('Умножение AB возможно') if np.shape(A)[1] == np.shape(B)[0] else print('Умножение AB невозможно')\n",
        "C = np.dot(A, B)\n",
        "print(C.shape)\n",
        "\n",
        "print('Умножение BA возможно') if np.shape(B)[1] == np.shape(A)[0] else print('Умножение BA невозможно')\n",
        "\n",
        "C = np.dot(B, A)\n",
        "print(C.shape)"
      ],
      "execution_count": 19,
      "outputs": [
        {
          "output_type": "stream",
          "name": "stdout",
          "text": [
            "Умножение AB возможно\n",
            "(8, 8)\n",
            "Умножение BA возможно\n",
            "(3, 3)\n"
          ]
        }
      ]
    },
    {
      "cell_type": "markdown",
      "metadata": {
        "id": "rtbcDOcDeFsv"
      },
      "source": [
        "г) $A$ — квадратная матрица $4\\times 4$, $B$ — квадратная матрица $4\\times 4$.\n",
        "\n",
        "Возможны оба варианта перемножения.\n",
        "\n",
        "$A \\cdot B$ даст матрицу $4 \\times 4$<br>\n",
        "$B \\cdot A$ даст матрицу $4 \\times 4$"
      ]
    },
    {
      "cell_type": "code",
      "metadata": {
        "colab": {
          "base_uri": "https://localhost:8080/"
        },
        "id": "hxhdzl5meXCX",
        "outputId": "b28e628b-5803-48c0-c00c-8edaa2235557"
      },
      "source": [
        "A = np.empty((4, 4))\n",
        "B = np.empty((4, 4))\n",
        "\n",
        "print('Умножение AB возможно') if np.shape(A)[1] == np.shape(B)[0] else print('Умножение невозможно')\n",
        "C = np.dot(A, B)\n",
        "print(C.shape)\n",
        "\n",
        "print('Умножение BA возможно') if np.shape(B)[1] == np.shape(A)[0] else print('Умножение невозможно')\n",
        "\n",
        "C = np.dot(B, A)\n",
        "print(C.shape)"
      ],
      "execution_count": 20,
      "outputs": [
        {
          "output_type": "stream",
          "name": "stdout",
          "text": [
            "Умножение AB возможно\n",
            "(4, 4)\n",
            "Умножение BA возможно\n",
            "(4, 4)\n"
          ]
        }
      ]
    },
    {
      "cell_type": "markdown",
      "metadata": {
        "id": "XziCeTD2YyS6"
      },
      "source": [
        "__2.__ Найти сумму и произведение матриц $A=\\begin{pmatrix}\n",
        "1 & -2\\\\ \n",
        "3 & 0\n",
        "\\end{pmatrix}$ и $B=\\begin{pmatrix}\n",
        "4 & -1\\\\ \n",
        "0 & 5\n",
        "\\end{pmatrix}.$\n",
        "\n",
        "$A=\\begin{pmatrix}\n",
        "1 & -2\\\\ \n",
        "3 & 0\n",
        "\\end{pmatrix}$ и $B=\\begin{pmatrix}\n",
        "4 & -1\\\\ \n",
        "0 & 5\n",
        "\\end{pmatrix}.$\n",
        "\n",
        "<br>\n",
        "\n",
        "$A + B = \\begin  {pmatrix}\n",
        "1 & -2\\\\ \n",
        "3 & 0\n",
        "\\end{pmatrix}$ + $\\begin{pmatrix}\n",
        "4 & -1\\\\ \n",
        "0 & 5\n",
        "\\end{pmatrix}. = \\begin{pmatrix}\n",
        "1 + 4 & -2 -1\\\\ \n",
        "3 + 0 & 5 + 0\n",
        "\\end{pmatrix} = \\begin{pmatrix}\n",
        "5 & -3\\\\ \n",
        "3 & 5\n",
        "\\end{pmatrix}$\n",
        "\n",
        "<br>\n",
        "\n",
        "$A*B = \\begin  {pmatrix}\n",
        "1 & -2\\\\ \n",
        "3 & 0\n",
        "\\end{pmatrix}$ * $\\begin{pmatrix}\n",
        "4 & -1\\\\ \n",
        "0 & 5\n",
        "\\end{pmatrix} = \\begin{pmatrix}\n",
        "1 \\cdot 4 -2\\cdot0 & 1\\cdot(-1) + (-2)\\cdot5\\\\ \n",
        "3\\cdot4 + 0\\cdot0 & 3\\cdot(-1) + 0\\cdot5\n",
        "\\end{pmatrix} = \\begin{pmatrix}\n",
        "4 & -11\\\\ \n",
        "12 & -3\n",
        "\\end{pmatrix}$\n",
        "\n",
        "<br>\n",
        "\n",
        "$B*A = \\begin{pmatrix}\n",
        "4 & -1\\\\ \n",
        "0 & 5\n",
        "\\end{pmatrix}$ * $ \\begin  {pmatrix}\n",
        "1 & -2\\\\ \n",
        "3 & 0\n",
        "\\end{pmatrix} = \\begin{pmatrix}\n",
        "4 \\cdot 1 -1 \\cdot 3 & 4 \\cdot(-2) + (-1) \\cdot 0\\\\ \n",
        "0 \\cdot 1 + 5 \\cdot 3 & 0 \\cdot (-2) + 5 \\cdot 0\n",
        "\\end{pmatrix} = \\begin{pmatrix}\n",
        "1 & -8\\\\ \n",
        "15 & 0\n",
        "\\end{pmatrix}$"
      ]
    },
    {
      "cell_type": "code",
      "metadata": {
        "colab": {
          "base_uri": "https://localhost:8080/"
        },
        "id": "rVE9XN-trX99",
        "outputId": "d1be4aeb-3cb0-4028-f3be-7dd57eb21533"
      },
      "source": [
        "A = np.array([[1, -2], [3, 0]])\n",
        "B = np.array([[4, -1], [0, 5]])\n",
        "\n",
        "print(f'Сумма A + B = \\n{A + B}\\n')\n",
        "print(f'A * B = \\n{np.dot(A, B)}\\n')\n",
        "print(f'B * A = \\n{np.dot(B, A)}')"
      ],
      "execution_count": 21,
      "outputs": [
        {
          "output_type": "stream",
          "name": "stdout",
          "text": [
            "Сумма A + B = \n",
            "[[ 5 -3]\n",
            " [ 3  5]]\n",
            "\n",
            "A * B = \n",
            "[[  4 -11]\n",
            " [ 12  -3]]\n",
            "\n",
            "B * A = \n",
            "[[ 1 -8]\n",
            " [15  0]]\n"
          ]
        }
      ]
    },
    {
      "cell_type": "markdown",
      "metadata": {
        "id": "0M32isL0Y1RW"
      },
      "source": [
        "__3.__ Из закономерностей сложения и умножения матриц на число можно сделать вывод, что матрицы одного размера образуют линейное пространство. Вычислить линейную комбинацию $3A-2B+4C$ для матриц $A=\\begin{pmatrix}\n",
        "1 & 7\\\\ \n",
        "3 & -6\n",
        "\\end{pmatrix}$, $B=\\begin{pmatrix}\n",
        "0 & 5\\\\ \n",
        "2 & -1\n",
        "\\end{pmatrix}$, $C=\\begin{pmatrix}\n",
        "2 & -4\\\\ \n",
        "1 & 1\n",
        "\\end{pmatrix}.$   \n",
        "\n",
        "<br>\n",
        "\n",
        "$3 * A=\\begin{pmatrix}\n",
        "3 & 21\\\\ \n",
        "9 & -18\n",
        "\\end{pmatrix}$\n",
        "\n",
        "$2 * B=\\begin{pmatrix}\n",
        "0 & 10\\\\ \n",
        "4 & -2\n",
        "\\end{pmatrix}$\n",
        "\n",
        "$4 * C=\\begin{pmatrix}\n",
        "8 & -16\\\\ \n",
        "4 & 4\n",
        "\\end{pmatrix}$\n",
        "\n",
        "<br>\n",
        "\n",
        "$3 * A - 2 * B=\\begin{pmatrix}\n",
        "3 & 21\\\\ \n",
        "9 & -18\n",
        "\\end{pmatrix} - \\begin{pmatrix}\n",
        "0 & 10\\\\ \n",
        "4 & -2\n",
        "\\end{pmatrix} = \\begin{pmatrix}\n",
        "3 & 11\\\\ \n",
        "5 & -16\n",
        "\\end{pmatrix}$\n",
        "\n",
        "<br>\n",
        "$3A - 2B + 4C = \\begin{pmatrix}\n",
        "3 & 11\\\\ \n",
        "5 & -16\n",
        "\\end{pmatrix} + \\begin{pmatrix}\n",
        "8 & -16\\\\ \n",
        "4 & 4\n",
        "\\end{pmatrix} = \\begin{pmatrix}\n",
        "11 & -5\\\\ \n",
        "9 & -12\n",
        "\\end{pmatrix}$\n"
      ]
    },
    {
      "cell_type": "code",
      "metadata": {
        "colab": {
          "base_uri": "https://localhost:8080/"
        },
        "id": "t00e2tNGrWEE",
        "outputId": "f6c24034-c9e1-4c5f-dd6c-c4fe5cdaaf4a"
      },
      "source": [
        "A = np.array([[1, 7], [3, -6]])\n",
        "B = np.array([[0, 5], [2, -1]])\n",
        "C = np.array([[2, -4], [1, 1]])\n",
        "\n",
        "print(3 * A - 2 * B + 4 * C)"
      ],
      "execution_count": 15,
      "outputs": [
        {
          "output_type": "stream",
          "name": "stdout",
          "text": [
            "[[ 11  -5]\n",
            " [  9 -12]]\n"
          ]
        }
      ]
    },
    {
      "cell_type": "markdown",
      "metadata": {
        "id": "QFu6RioHY4Fl"
      },
      "source": [
        "__4.__ Дана матрица $A=\\begin{pmatrix}\n",
        "4 & 1\\\\ \n",
        "5 & -2\\\\ \n",
        "2 & 3\n",
        "\\end{pmatrix}$.\n",
        "Вычислить $AA^{T}$ и $A^{T}A$.\n",
        "\n",
        "\n",
        "$A^{T} = \\begin{pmatrix}\n",
        "4 & 5 & 2\\\\ \n",
        "1 & -2 & 3\n",
        "\\end{pmatrix}$\n",
        "\n",
        "<br>\n",
        "\n",
        "$AA^{T} = A=\\begin{pmatrix}\n",
        "4 & 1\\\\ \n",
        "5 & -2\\\\ \n",
        "2 & 3\n",
        "\\end{pmatrix} \\cdot \\begin{pmatrix}\n",
        "4 & 5 & 2\\\\ \n",
        "1 & -2 & 3\n",
        "\\end{pmatrix} = \\begin{pmatrix}\n",
        "4 \\cdot 4 + 1 \\cdot 1 & 4 \\cdot 5 + 1 \\cdot (-2) & 4 \\cdot 2 + 1 \\cdot 3\\\\ \n",
        "5 \\cdot 4 + (-2) \\cdot 1 & 5 \\cdot 5 + (-2) \\cdot (-2) & 5 \\cdot 2 + (-2) \\cdot 3\\\\ \n",
        "2 \\cdot 4 + 3 \\cdot 1 & 2 \\cdot 5 + 3 \\cdot (-2) & 2 \\cdot 2 + 3 \\cdot 3\n",
        "\\end{pmatrix} = \n",
        "\\begin{pmatrix}\n",
        "17 & 18 & 11\\\\ \n",
        "18 & 29 & 4\\\\\n",
        "11 & 4 & 13\\end{pmatrix}$\n",
        "\n",
        "<br>\n",
        "\n",
        "$A^{T}A = \n",
        "\\begin{pmatrix}\n",
        "  4 & 5 & 2\\\\ \n",
        "  1 & -2 & 3\n",
        "\\end{pmatrix} \\cdot \n",
        "\\begin{pmatrix}\n",
        "  4 & 1\\\\ \n",
        "  5 & -2\\\\ \n",
        "  2 & 3\n",
        "\\end{pmatrix} = \\begin{pmatrix}\n",
        "4 \\cdot 4 + 5 \\cdot 5 + 2 \\cdot 2 & 4 \\cdot 1 + 5 \\cdot (-2) + 2 \\cdot 3\\\\ \n",
        "1 \\cdot 4 + (-2) \\cdot 5 + 3 \\cdot 2 & 1 \\cdot 1 + (-2) \\cdot (-2) + 3 \\cdot 3\\\\ \n",
        "\\end{pmatrix} = \n",
        "\\begin{pmatrix}\n",
        "  45 & 0 \\\\ \n",
        "  0 & 14 \\\\\n",
        "\\end{pmatrix}$"
      ]
    },
    {
      "cell_type": "code",
      "metadata": {
        "colab": {
          "base_uri": "https://localhost:8080/"
        },
        "id": "EAT9NvkhB3Zh",
        "outputId": "d3c1c552-16aa-491d-8b95-3ec416fce1ac"
      },
      "source": [
        "A = np.array([[4, 1], [5, -2], [2, 3]])\n",
        "\n",
        "print(f'A*A.T = \\n{np.dot(A, A.T)}\\n')\n",
        "print(f'A.T*A = \\n{np.dot(A.T, A)}')"
      ],
      "execution_count": 6,
      "outputs": [
        {
          "output_type": "stream",
          "name": "stdout",
          "text": [
            "A*A.T = \n",
            "[[17 18 11]\n",
            " [18 29  4]\n",
            " [11  4 13]]\n",
            "\n",
            "A.T*A = \n",
            "[[45  0]\n",
            " [ 0 14]]\n"
          ]
        }
      ]
    },
    {
      "cell_type": "markdown",
      "metadata": {
        "id": "uVNszJ6uY6HD"
      },
      "source": [
        "__5*.__ Написать на Python функцию для перемножения двух произвольных матриц, не используя NumPy."
      ]
    },
    {
      "cell_type": "code",
      "metadata": {
        "id": "o07RuSd5J-8C"
      },
      "source": [
        "def dot_simple(A, B):\n",
        "    try:\n",
        "        if (np.shape(A)[1] != np.shape(B)[0]):\n",
        "            raise ValueError('Error')\n",
        "    except:\n",
        "        return f'Умножение невозможно. Размерности должны быть заданы правильно: количество столбцов первой матрицы ({np.shape(A)[1]}) должно совпадать с количеством строк второй матрицы ({np.shape(B)[0]})'\n",
        "\n",
        "    print(f'Умножение возможно. Должны получить матрицу размерности {np.shape(A)[0]} на {np.shape(B)[1]}')\n",
        "\n",
        "    sum = 0\n",
        "    matrix = []\n",
        "\n",
        "    for i in range(0, np.shape(A)[0]):\n",
        "        for j in range(0, np.shape(B)[1]):\n",
        "            for p in range(0, np.shape(B)[0]):\n",
        "                sum += A[i][p] * B[p][j]\n",
        "            matrix.append(sum)\n",
        "            sum = 0\n",
        "    matrix = np.array(matrix)\n",
        "    # print(matrix)\n",
        "    matrix = matrix.reshape(np.shape(A)[0], np.shape(B)[1])\n",
        "    return matrix"
      ],
      "execution_count": null,
      "outputs": []
    },
    {
      "cell_type": "markdown",
      "metadata": {
        "id": "Mzdg3rZwufub"
      },
      "source": [
        "Тесты:"
      ]
    },
    {
      "cell_type": "code",
      "metadata": {
        "colab": {
          "base_uri": "https://localhost:8080/"
        },
        "id": "RVtJ76zGK0Fq",
        "outputId": "3b27717d-2010-4ca8-a582-bfdc935b74f4"
      },
      "source": [
        "x = np.array([[1, 0], [2, 1], [10, 5]])\n",
        "y = np.array([[2, 0, 0], [0, 0, 1]])\n",
        "\n",
        "print(dot_simple(x, y))"
      ],
      "execution_count": null,
      "outputs": [
        {
          "output_type": "stream",
          "name": "stdout",
          "text": [
            "Умножение возможно. Должны получить матрицу размерности 3 на 3\n",
            "[[ 2  0  0]\n",
            " [ 4  0  1]\n",
            " [20  0  5]]\n"
          ]
        }
      ]
    },
    {
      "cell_type": "code",
      "metadata": {
        "colab": {
          "base_uri": "https://localhost:8080/"
        },
        "id": "IHZHcE_1LJt0",
        "outputId": "3d1f5cef-18a6-46c3-cbca-0cf65e06bf42"
      },
      "source": [
        "A = np.array([[4, 1], [5, -2], [2, 3]])\n",
        "\n",
        "print(dot_simple(A, A.T))\n",
        "print(dot_simple(A.T, A))"
      ],
      "execution_count": null,
      "outputs": [
        {
          "output_type": "stream",
          "name": "stdout",
          "text": [
            "Умножение возможно. Должны получить матрицу размерности 3 на 3\n",
            "[[17 18 11]\n",
            " [18 29  4]\n",
            " [11  4 13]]\n",
            "Умножение возможно. Должны получить матрицу размерности 2 на 2\n",
            "[[45  0]\n",
            " [ 0 14]]\n"
          ]
        }
      ]
    },
    {
      "cell_type": "code",
      "metadata": {
        "colab": {
          "base_uri": "https://localhost:8080/"
        },
        "id": "MqOMQqiSRsXD",
        "outputId": "fbdece10-a9a2-48a8-ed6f-d3de70e12e11"
      },
      "source": [
        "A = np.empty((2, 5))\n",
        "B = np.empty((5, 3))\n",
        "\n",
        "print(dot_simple(A, B))\n",
        "print(dot_simple(B, A))"
      ],
      "execution_count": null,
      "outputs": [
        {
          "output_type": "stream",
          "name": "stdout",
          "text": [
            "Умножение возможно. Должны получить матрицу размерности 2 на 3\n",
            "[[0. 0. 0.]\n",
            " [0. 0. 0.]]\n",
            "Умножение невозможно. Размерности должны быть заданы правильно: количество столбцов первой матрицы (3) должно совпадать с количеством строк второй матрицы (2)\n"
          ]
        }
      ]
    },
    {
      "cell_type": "markdown",
      "metadata": {
        "id": "uzeE3Xijn5AX"
      },
      "source": [
        "__1.__ Вычислить определитель:\n",
        "\n",
        "   a)\n",
        "\n",
        "$$\\begin{vmatrix}\n",
        "sinx & -cosx\\\\ \n",
        "cosx & sinx\n",
        "\\end{vmatrix};$$\n",
        "\n",
        "$$\\begin{vmatrix}\n",
        "sinx & -cosx\\\\ \n",
        "cosx & sinx\n",
        "\\end{vmatrix} = \\sin^2 x + \\cos^2x =1$$\n",
        "\n",
        "  \n"
      ]
    },
    {
      "cell_type": "markdown",
      "metadata": {
        "id": "FoVDCb0Vn8EP"
      },
      "source": [
        " б)\n",
        "    \n",
        "$$\\begin{vmatrix}\n",
        "4 & 2 & 3\\\\ \n",
        "0 & 5 & 1\\\\ \n",
        "0 & 0 & 9\n",
        "\\end{vmatrix};$$\n",
        "\n",
        "$$\\begin{vmatrix}\n",
        "4 & 2 & 3\\\\ \n",
        "0 & 5 & 1\\\\ \n",
        "0 & 0 & 9\n",
        "\\end{vmatrix} = 4 \\cdot 5 \\cdot 9 = 180$$\n",
        "  "
      ]
    },
    {
      "cell_type": "markdown",
      "metadata": {
        "id": "TGINUhd2n-Hw"
      },
      "source": [
        "  \n",
        "   в)\n",
        "\n",
        "$$\\begin{vmatrix}\n",
        "1 & 2 & 3\\\\ \n",
        "4 & 5 & 6\\\\ \n",
        "7 & 8 & 9\n",
        "\\end{vmatrix}.$$\n",
        "\n",
        "$\\begin{vmatrix}\n",
        "1 & 2 & 3\\\\ \n",
        "4 & 5 & 6\\\\ \n",
        "7 & 8 & 9\n",
        "\\end{vmatrix} = 1\n",
        "\\begin{vmatrix}\n",
        " 5 & 6\\\\ \n",
        " 8 & 9\n",
        "\\end{vmatrix} - 2\n",
        "\\begin{vmatrix}\n",
        " 4 & 6\\\\ \n",
        " 7 & 9\n",
        "\\end{vmatrix} + 3\n",
        "\\begin{vmatrix}\n",
        " 4 & 5\\\\ \n",
        " 7 & 8\n",
        "\\end{vmatrix} = (5\\cdot 9 - 8 \\cdot 6) - 2(4 \\cdot 9 - 7 \\cdot 6) + 3 (4\\cdot 8 - 7 \\cdot 5) =\n",
        "\\\\= (45 - 48) - 2(36 - 42) + 3(32 - 35) = -3 + 12 - 9 = 0$"
      ]
    },
    {
      "cell_type": "code",
      "metadata": {
        "colab": {
          "base_uri": "https://localhost:8080/"
        },
        "id": "LOZQFR_Ks_V_",
        "outputId": "db8b9e7a-d2fd-495d-ed1a-815abffb08ca"
      },
      "source": [
        "x = 1\n",
        "A = np.array([[math.sin(x), -math.cos(x)], [math.cos(x), math.sin(x)]])\n",
        "B = np.array([[4, 2, 3], [0, 5, 1], [0, 0, 9]])\n",
        "C = np.array([[1, 2, 3], [4, 5, 6], [7, 8, 9]])\n",
        "\n",
        "print(f'Матрица:\\n{A}')\n",
        "print(f'Определитель:\\n{np.linalg.det(A):.0f}\\n')\n",
        "print(f'Матрица:\\n{B}')\n",
        "print(f'Определитель:\\n{np.linalg.det(B):.0f}\\n')\n",
        "print(f'Матрица:\\n{C}')\n",
        "print(f'Определитель:\\n{np.linalg.det(C):.0f}\\n')"
      ],
      "execution_count": null,
      "outputs": [
        {
          "output_type": "stream",
          "name": "stdout",
          "text": [
            "Матрица:\n",
            "[[ 0.84147098 -0.54030231]\n",
            " [ 0.54030231  0.84147098]]\n",
            "Определитель:\n",
            "1\n",
            "\n",
            "Матрица:\n",
            "[[4 2 3]\n",
            " [0 5 1]\n",
            " [0 0 9]]\n",
            "Определитель:\n",
            "180\n",
            "\n",
            "Матрица:\n",
            "[[1 2 3]\n",
            " [4 5 6]\n",
            " [7 8 9]]\n",
            "Определитель:\n",
            "0\n",
            "\n"
          ]
        }
      ]
    },
    {
      "cell_type": "markdown",
      "metadata": {
        "id": "-v1obDxmJSnD"
      },
      "source": [
        "__2.__ Определитель матрицы $A$ равен $4$. Найти:\n",
        "\n",
        "   а) $det(A^{2})$;\n",
        "\n",
        "  $det(A^{2}) = det(A \\cdot A) = det(A) \\cdot det(A) = 4 \\cdot 4 = 16$;\n",
        "    \n",
        "   б) $det(A^{T})$;\n",
        "\n",
        "   $det(A^{T}) = detA = 4$;\n",
        "    \n",
        "   в) $det(2A) = 8$."
      ]
    },
    {
      "cell_type": "markdown",
      "metadata": {
        "id": "k_IK4coOa3Wn"
      },
      "source": [
        "__3.__  Доказать, что матрица\n",
        "\n",
        "$$\\begin{pmatrix}\n",
        "-2 & 7 & -3\\\\ \n",
        "4 & -14 & 6\\\\ \n",
        "-3 & 7 & 13\n",
        "\\end{pmatrix}$$\n",
        "   \n",
        "вырожденная.\n",
        "\n",
        "Определитель вырожденной матрицы равен нулю. Найдём определитель.\n",
        "\n",
        "$$\\begin{vmatrix}\n",
        "-2 & 7 & -3\\\\ \n",
        "4 & -14 & 6\\\\ \n",
        "-3 & 7 & 13\n",
        "\\end{vmatrix} = (-2)\\cdot(-14)\\cdot13 + 7 \\cdot 6 \\cdot (-13) + (-3) \\cdot 4 \\cdot 7 - (-3) \\cdot (-14) \\cdot ( -3) - (-2) \\cdot 6 \\cdot 7 - 13 \\cdot4 \\cdot 7 = 364 - 126 - 84 + 126 + 84 + 364 = 0$$\n",
        "\n",
        "Первая и вторая строка матрицы линейно зависимы, а потому определитель равен нулю. Матрица является вырожденной."
      ]
    },
    {
      "cell_type": "code",
      "metadata": {
        "colab": {
          "base_uri": "https://localhost:8080/"
        },
        "id": "YDgxVp3yd2oi",
        "outputId": "9c318504-5cc7-4466-eaec-35aa1eb6e23b"
      },
      "source": [
        "A = np.array([[-2, 7, -3], [4, -14, 6], [-3, 7, 13]])\n",
        "np.linalg.det(A)"
      ],
      "execution_count": null,
      "outputs": [
        {
          "output_type": "execute_result",
          "data": {
            "text/plain": [
              "0.0"
            ]
          },
          "metadata": {},
          "execution_count": 2
        }
      ]
    },
    {
      "cell_type": "markdown",
      "metadata": {
        "id": "lKLGobPNinW_"
      },
      "source": [
        "__4.__ Найти ранг матрицы:\n",
        "\n",
        "   а) $\\begin{pmatrix}\n",
        "1 & 2 & 3\\\\ \n",
        "1 & 1 & 1\\\\ \n",
        "2 & 3 & 4\n",
        "\\end{pmatrix};$\n",
        "\n",
        "Третья строка является суммой первых двух. Её можно отбросить\n",
        "\n",
        "\n",
        "$\\begin{pmatrix}\n",
        "1 & 2 & 3\\\\ \n",
        "1 & 1 & 1\n",
        "\\end{pmatrix};$\n",
        "\n",
        "Вычтем из первой строки вторую\n",
        "\n",
        "\n",
        "$\\begin{pmatrix}\n",
        "0 & 1 & 2\\\\ \n",
        "1 & 1 & 1\n",
        "\\end{pmatrix};$\n",
        "\n",
        "Ранг матрицы равен 2.\n",
        "\n",
        "   б) $\\begin{pmatrix}\n",
        "0 & 0 & 2 & 1\\\\ \n",
        "0 & 0 & 2 & 2\\\\ \n",
        "0 & 0 & 4 & 3\\\\ \n",
        "2 & 3 & 5 & 6\n",
        "\\end{pmatrix}.$\n",
        "\n",
        "Третья строка является суммой первых двух. Её можно отбросить.\n",
        "\n",
        "$\\begin{pmatrix}\n",
        "0 & 0 & 2 & 1\\\\ \n",
        "0 & 0 & 2 & 2\\\\ \n",
        "2 & 3 & 5 & 6\n",
        "\\end{pmatrix}$\n",
        "\n",
        "Ранг матрицы равен 3."
      ]
    },
    {
      "cell_type": "code",
      "metadata": {
        "colab": {
          "base_uri": "https://localhost:8080/"
        },
        "id": "K4hN-xDonlcc",
        "outputId": "bd2ead0f-3e00-4502-c527-192b29a38219"
      },
      "source": [
        "a = np.array([[1, 2, 3], [1, 1, 1], [2, 3, 4]])\n",
        "b = np.array([[0, 0, 2, 1], [0, 0, 2, 2], [2, 3, 5, 6]])\n",
        "np.linalg.matrix_rank(a)\n",
        "\n",
        "print(f'Ранг матрицы a: {np.linalg.matrix_rank(a)}')\n",
        "print(f'Ранг матрицы b: {np.linalg.matrix_rank(b)}')"
      ],
      "execution_count": null,
      "outputs": [
        {
          "output_type": "stream",
          "name": "stdout",
          "text": [
            "Ранг матрицы a: 2\n",
            "Ранг матрицы b: 3\n"
          ]
        }
      ]
    }
  ]
}