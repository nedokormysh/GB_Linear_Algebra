{
  "nbformat": 4,
  "nbformat_minor": 0,
  "metadata": {
    "colab": {
      "name": "Linear_Algebra_HW_1.ipynb",
      "provenance": [],
      "collapsed_sections": [],
      "authorship_tag": "ABX9TyNsilYZMg1rYS1PxnKo/9gP",
      "include_colab_link": true
    },
    "kernelspec": {
      "name": "python3",
      "display_name": "Python 3"
    },
    "language_info": {
      "name": "python"
    }
  },
  "cells": [
    {
      "cell_type": "markdown",
      "metadata": {
        "id": "view-in-github",
        "colab_type": "text"
      },
      "source": [
        "<a href=\"https://colab.research.google.com/github/nedokormysh/GB_Linear_Algebra/blob/main/Linear_Algebra_HW_1.ipynb\" target=\"_parent\"><img src=\"https://colab.research.google.com/assets/colab-badge.svg\" alt=\"Open In Colab\"/></a>"
      ]
    },
    {
      "cell_type": "code",
      "metadata": {
        "id": "UJhebsdB3-xV"
      },
      "source": [
        "import numpy as np\n",
        "from numpy.linalg import norm\n",
        "from math import isclose"
      ],
      "execution_count": null,
      "outputs": []
    },
    {
      "cell_type": "markdown",
      "metadata": {
        "id": "5zpFt2OkPfPq"
      },
      "source": [
        "# Линейное пространство. Основные понятия. Часть 1."
      ]
    },
    {
      "cell_type": "markdown",
      "metadata": {
        "id": "11RBzmxMzT4o"
      },
      "source": [
        "**__1.__ Исследовать на линейную зависимость:**\n",
        "\n",
        "$$f_{1}(x)=e^{x}, f_{2}(x)=1, f_{3}(x)=x+1, f_{4}(x)=x-e^{x}.$$\n",
        "\n",
        "\n",
        "**Решение.**\n",
        "\n",
        "$$f_{4}(x)=x-e^{x} = x + 1 - e^x - 1 = f_{3}(x) - f_{1}(x) - f_{2}(x)$$\n",
        "\n",
        "то есть один из векторов является линейной комбинацией двух остальных. Из этого следует, что векторы линейно зависимы.\n"
      ]
    },
    {
      "cell_type": "markdown",
      "metadata": {
        "id": "PpcUBSfG37zL"
      },
      "source": [
        "__2.__ Исследовать на линейную зависимость:\n",
        "$$f_{1}(x)=2, f_{2}(x)=x, f_{3}(x)=x^{2}, f_{4}(x)=(x+1)^{2}$$\n",
        "\n",
        "**Решение.**\n",
        "\n",
        "$$f_{4}(x)=(x+1)^{2} = x^2 + 2x + 1 = f_{3}(x) + 2f_{2}(x) + \\frac{1}{2}f_{1}(x)$$\n",
        "\n",
        "то есть один из векторов является линейной комбинацией двух остальных. Из этого следует, что векторы линейно зависимы."
      ]
    },
    {
      "cell_type": "markdown",
      "metadata": {
        "id": "Nwjs6MPkMyqD"
      },
      "source": [
        "__3.__ Найти координаты вектора $x = (2, 3, 5)\\in \\mathbb{R}^{3}$ в базисе $b_{1}=(0, 0, 10)$, $b_{2}=(2, 0, 0)$, $b_{3}=(0, 1, 0)$.\n",
        "\n",
        "**Решение.**\n",
        "$x = (2, 3, 5) = (2, 0, 0) + (0, 3, 0) + (0, 0, 5) = 1 * (2, 0, 0) + 3 * (0, 1, 0) + 0.5 * (0, 0, 10) = 1 * b_1 + 3 * b_3 + 0.5 * b_1$\n",
        "\n",
        "$x = 0.5 * b_1 + 1 * b_2 + 3 * b_3$\n",
        "\n",
        "$$(\\frac{1}{2}, 1, 3)$$"
      ]
    },
    {
      "cell_type": "markdown",
      "metadata": {
        "id": "HTHgfszdaity"
      },
      "source": [
        "**__4.__ Найти координаты вектора $3x^{2}-2x+2\\in\\mathbb{R}^{3}[x]$**:\n",
        "\n",
        "а) в базисе $1$, $x$, $x^{2}$;\n",
        "\n",
        "б) в базисе $x^{2}$, $x-1$, $1$.\n",
        "\n",
        "**Решение.**<br>\n",
        "а) в базисе $1$, $x$, $x^{2}$;\n",
        "\n",
        "$a_1 = 1$\n",
        "\n",
        "$a_2 = x$\n",
        "\n",
        "$a_3 = x^2$\n",
        "\n",
        "$ x = 3x^{2} - 2x + 2 = 3a_3 - 2a_2 + 2a_1$\n",
        "\n",
        "(2, -2, 3)\n",
        "\n",
        "б) в базисе $x^{2}$, $x-1$, $1$.\n",
        "\n",
        "$a_1 = x^2$\n",
        "\n",
        "$a_2 = x - 1$\n",
        "\n",
        "$a_3 = 1$\n",
        "\n",
        "$x = 3x^{2} - 2x + 2 = 3 x^2 -2 (x - 1) = 3a_1 - 2a_2 + 0a_3$\n",
        "\n",
        "(3, -2, 0)"
      ]
    },
    {
      "cell_type": "markdown",
      "metadata": {
        "id": "iEMlMAconZDP"
      },
      "source": [
        "**__5.__ Установить, является ли линейным подпространством:**\n",
        "\n",
        "а) совокупность всех векторов трехмерного пространства, у которых по крайней мере одна из первых двух координат равна нулю;\n",
        "    \n",
        "б) все векторы, являющиеся линейными комбинациями данных векторов $\\{u_{1}, u_{2}, \\ldots, u_{n}\\}$.\n",
        "\n",
        "**Решение.**\n",
        "\n",
        "а) совокупность всех векторов трехмерного пространства, у которых по крайней мере одна из первых двух координат равна нулю;\n",
        "\n",
        "Проверим сложение\n",
        "\n",
        "(0, b, c) + (a, 0, c) = (a, b, c)\n",
        "\n",
        "Полученный вектор не принадлежит множеству векторов, у которых по крайней мере одна из первых двух координат равна нулю. Следовательно не является линейным подпространством.\n",
        "\n",
        "б) все векторы, являющиеся линейными комбинациями данных векторов $\\{u_{1}, u_{2}, \\ldots, u_{n}\\}$.\n",
        "\n",
        "Т.к. мы рассматриваем векторы, которые являются линейными комбинациями векторов $u_1, ... , u_2$$. \n",
        "\n",
        "$v_n = \\alpha_1 u_1 + ... + \\alpha_n u_n$\n",
        "\n",
        "Множество таких векторов будет линейным подспространством, т.к. это множество векторов само будет являться линейным пространством, где будут выполняться аксиомы исходного пространсва векторов."
      ]
    },
    {
      "cell_type": "markdown",
      "metadata": {
        "id": "bPWoVXlDPn5z"
      },
      "source": [
        "# Линейное пространство. Основные понятия. Часть 2."
      ]
    },
    {
      "cell_type": "markdown",
      "metadata": {
        "id": "-MZCPXQ1P15F"
      },
      "source": [
        "__1.__ **Найти скалярное произведение векторов $x, y \\in \\mathbb{R}$:<br>**\n",
        "а) $x=(0,-3, 6),~y=(-4, 7, 9);$<br>\n",
        "б) $x=(7, -4, 0, 1),~y=(-3, 1, 11, 2).$"
      ]
    },
    {
      "cell_type": "markdown",
      "metadata": {
        "id": "FSKi0NlXQHWc"
      },
      "source": [
        "а) $x=(0,-3, 6),~y=(-4, 7, 9);$\n",
        "\n",
        "$(x, y) = 0\\cdot(-4) + (-3)\\cdot7 + 6\\cdot9 = -21 + 54 = 33$ "
      ]
    },
    {
      "cell_type": "code",
      "metadata": {
        "colab": {
          "base_uri": "https://localhost:8080/"
        },
        "id": "U2REguSkQsk2",
        "outputId": "dc2ac69e-cbce-41d8-c759-8f63f5ce60b4"
      },
      "source": [
        "x = np.array([0, -3, 6])\n",
        "y = np.array([-4, 7, 9])\n",
        "\n",
        "np.dot(x, y)"
      ],
      "execution_count": null,
      "outputs": [
        {
          "output_type": "execute_result",
          "data": {
            "text/plain": [
              "33"
            ]
          },
          "metadata": {},
          "execution_count": 103
        }
      ]
    },
    {
      "cell_type": "markdown",
      "metadata": {
        "id": "ZmPfKH6RRUdN"
      },
      "source": [
        "б) $x = (7, -4, 0, 1),~y = (-3, 1, 11, 2).$\n",
        "\n",
        "$(x, y) = 7\\cdot(-3) + (-4) \\cdot 1 + 0\\cdot11 + 1\\cdot2 = - 21 - 4 + 2 = - 23$"
      ]
    },
    {
      "cell_type": "code",
      "metadata": {
        "colab": {
          "base_uri": "https://localhost:8080/"
        },
        "id": "c3iJzTRSR3K_",
        "outputId": "e1aed361-2f38-40e1-bfbe-2a968d2f51ea"
      },
      "source": [
        "x = np.array([7, -4, 0, 1])\n",
        "y = np.array([-3, 1, 11, 2])\n",
        "\n",
        "np.dot(x, y)"
      ],
      "execution_count": null,
      "outputs": [
        {
          "output_type": "execute_result",
          "data": {
            "text/plain": [
              "-23"
            ]
          },
          "metadata": {},
          "execution_count": 104
        }
      ]
    },
    {
      "cell_type": "markdown",
      "metadata": {
        "id": "u1T5lEaYSHFE"
      },
      "source": [
        "__2.__ **Найти нормы векторов $(4, 2, 4)$ и $(12, 3, 4)$ и угол между ними.**\n",
        "\n",
        "Манхэттенская норма.\n",
        "\n",
        "$\\left\\|x_1\\right\\| = |4| + |2| + |4| = 10$\n",
        "\n",
        "$\\left\\|x_2\\right\\| = |12| + |3| + |4| = 19$"
      ]
    },
    {
      "cell_type": "code",
      "metadata": {
        "colab": {
          "base_uri": "https://localhost:8080/"
        },
        "id": "qQdtwa-4aAXk",
        "outputId": "06c6ad39-f620-4869-a9af-8271a1d0a9e4"
      },
      "source": [
        "x_1 = np.array([4, 2, 4])\n",
        "x_2 = np.array([12, 3, 4])\n",
        "\n",
        "print(f'l1 Манхэттенская норма вектора x_1: \\n{norm(x_1, ord=1)}')\n",
        "print(f'l1 Манхэттенская норма вектора x_2: \\n{norm(x_2, ord=1)}')"
      ],
      "execution_count": null,
      "outputs": [
        {
          "output_type": "stream",
          "name": "stdout",
          "text": [
            "l1 Манхэттенская норма вектора x_1: \n",
            "10.0\n",
            "l1 Манхэттенская норма вектора x_2: \n",
            "19.0\n"
          ]
        }
      ]
    },
    {
      "cell_type": "markdown",
      "metadata": {
        "id": "nONKOFisSGz5"
      },
      "source": [
        "Евклидова норма.\n",
        "\n",
        "$\\left\\|x_1\\right\\| = \\sqrt {16 + 4 + 16} = 6$\n",
        "\n",
        "$\\left\\|x_2\\right\\| = \\sqrt {144 + 9 + 16} = 13$"
      ]
    },
    {
      "cell_type": "code",
      "metadata": {
        "colab": {
          "base_uri": "https://localhost:8080/"
        },
        "id": "pa33DeTNbww7",
        "outputId": "0416b993-d572-43ba-897d-f9c91592a68a"
      },
      "source": [
        "print(f'l1 Евклидова норма вектора x_1: \\n{norm(x_1, ord=2)}')\n",
        "print(f'l1 Евклидова норма вектора x_2: \\n{norm(x_2, ord=2)}')"
      ],
      "execution_count": null,
      "outputs": [
        {
          "output_type": "stream",
          "name": "stdout",
          "text": [
            "l1 Евклидова норма вектора x_1: \n",
            "6.0\n",
            "l1 Евклидова норма вектора x_2: \n",
            "13.0\n"
          ]
        }
      ]
    },
    {
      "cell_type": "code",
      "metadata": {
        "colab": {
          "base_uri": "https://localhost:8080/"
        },
        "id": "Tz6eLrgQ5XcS",
        "outputId": "d7dcc861-b89f-45e0-f7c3-3b9f62e50ad0"
      },
      "source": [
        "cos_phi = np.dot(x_1, x_2) / norm(x_1) / norm(x_2)\n",
        "print(f'Косинус угла {round(cos_phi, 3)}')\n",
        "print(f'Угол в градусах = {round(np.degrees(np.arccos(cos_phi)), 2)}')"
      ],
      "execution_count": null,
      "outputs": [
        {
          "output_type": "stream",
          "name": "stdout",
          "text": [
            "Косинус угла 0.897\n",
            "Угол в градусах = 26.18\n"
          ]
        }
      ]
    },
    {
      "cell_type": "markdown",
      "metadata": {
        "id": "KbOIwB_EcFiD"
      },
      "source": [
        "__3.__ **Будет ли линейное пространство евклидовым, если за скалярное произведение принять:<br>**\n",
        "а) произведение длин векторов;<br>\n",
        "б) утроенное обычное скалярное произведение векторов?<br>\n",
        "\n",
        "**Решение.**\n",
        "\n",
        "а) произведение длин векторов;\n",
        "\n",
        "$(x, y) = \\left\\|x\\right\\| \\cdot \\left\\|y\\right\\|$\n",
        "\n",
        "При этом указанное правило должно подчиняться четырем аксиомам:<br>\n",
        "\n",
        "1) $(x, y) = \\left\\|x\\right\\| \\cdot \\left\\|y\\right\\| = \\left\\|y\\right\\| \\cdot \\left\\|x\\right\\| = (y, x)$ первая аксиома верна <br>\n",
        "\n",
        "2) $(\\lambda x, y)= \\left\\|\\lambda \\cdot x\\right\\| \\cdot \\left\\|y\\right\\| =\\lambda\\left\\|x\\right\\| \\cdot \\left\\|y\\right\\| =\\lambda(x, y);$ вторая аксиома выполняется<br>\n",
        "\n",
        "3) $(x_{1}+x_{2},y)= \\left\\|x_1 + x_2\\right\\|\\cdot \\left\\|y\\right\\| \\neq (x_{1},y)+(x_{2},y);$\n",
        "\n",
        "$(x_{1},y)+(x_{2},y) = \\left\\|x_1\\right\\|\\cdot \\left\\|y\\right\\| + \\left\\| x_2\\right\\|\\cdot \\left\\|y\\right\\|\n",
        "$<br> третья аксиома не выполняется<br>\n",
        "\n",
        "4) $(x, x)= \\left\\|x\\right\\| \\cdot \\left\\|x\\right\\| \\geq0$, причем $(x,x) = \\left\\|0\\right\\| \\cdot \\left\\|0\\right\\| = 0\\Leftrightarrow x=0.$ четвёртая аксиома выполняется.\n",
        "\n",
        " \n",
        "\n",
        "Не является евклидовым пространством."
      ]
    },
    {
      "cell_type": "markdown",
      "metadata": {
        "id": "j54z3b7TsoME"
      },
      "source": [
        "б) утроенное обычное скалярное произведение векторов?<br>\n",
        "\n",
        "$(x, y) = 3 * (x, y)$\n",
        "\n",
        "1)$(x, y) = 3 \\cdot \\left\\|x\\right\\| \\cdot \\left\\|y\\right\\| \\cdot cos\\alpha = 3 \\cdot \\left\\|y\\right\\|  \\cdot \\left\\|x\\right\\| \\cdot cos\\alpha = (y, x)$ первая аксиома выполняется.<br>\n",
        "\n",
        "2) $(\\lambda x, y) = 3 \\cdot \\left\\|\\lambda x\\right\\|\\cdot\\left\\|y\\right\\|\\cdot cos\\alpha = 3 \\cdot \\lambda \\cdot \\left\\|x\\right\\| \\cdot \\left\\|y\\right\\|\\cdot cos\\alpha = \\lambda (x, y)$ вторая аксиома верна<br>\n",
        "\n",
        "3)  $(x_{1}+x_{2},y) = 3 \\cdot \\left\\|x_1 + x_2\\right\\|\\cdot \\left\\|y\\right\\|\\cdot cos\\alpha$\n",
        "\n",
        "$(x_{1},y)+(x_{2},y) = 3 \\cdot \\left\\|x_1\\right\\|\\cdot \\left\\|y\\right\\| \\cdot cos\\alpha_1 + 3 \\cdot \\left\\| x_2\\right\\|\\cdot \\left\\|y\\right\\| \\cdot cos\\alpha_2 = 3 \\cdot \\left\\|y\\right\\|(\\left\\|x_1\\right\\| \\cdot cos\\alpha_1 + \\left\\|x_2\\right\\| \\cdot cos\\alpha_2)$\n",
        "третья аксиома выполняется только при условии, что $(\\left\\|x_1\\right\\| \\cdot cos\\alpha_1 + \\left\\|x_2\\right\\| \\cdot cos\\alpha_2) =  \\left\\|x_1 + x_2\\right\\|\\cdot cos\\alpha$. Это выражение верно. Т.к. проекция $x_1 + x_2$ на вектор $y$ $= \\left\\|x_1 + x_2\\right\\|\\cdot cos\\alpha$, а также эта проекция будет равна сумме проекций векторов $x_1$ и $x_2$ на вектор $y$. А они в свою очередь равны  $(\\left\\|x_1\\right\\| \\cdot cos\\alpha_1 + \\left\\|x_2\\right\\| \\cdot cos\\alpha_2)$. Т.е. равенство верно. И аксиома также верна.\n",
        "\n",
        "4) $(x, x)= 3 \\cdot \\left\\|x\\right\\| \\cdot \\left\\|x\\right\\| cos\\alpha \\geq0$, причем $(x,x) = 3 \\cdot \\left\\|0\\right\\| \\cdot \\left\\|0\\right\\| \\cdot cos \\alpha=  0\\Leftrightarrow x=0.$ четвёртая аксиома выполняется.\n",
        "\n",
        "Является евклидовым пространством."
      ]
    },
    {
      "cell_type": "code",
      "metadata": {
        "id": "nWhaFJSliNN4"
      },
      "source": [
        "def dot_1(a, b):\n",
        "  return norm(a) * norm(b)\n",
        "\n",
        "def dot_2(a, b):\n",
        "  return 3 * np.dot(a, b)"
      ],
      "execution_count": null,
      "outputs": []
    },
    {
      "cell_type": "code",
      "metadata": {
        "colab": {
          "base_uri": "https://localhost:8080/"
        },
        "id": "6KEyfiBIgxRc",
        "outputId": "08bfa422-6c98-4545-a1b8-e197c9523a31"
      },
      "source": [
        "x = np.array([1, 2])\n",
        "x_1 = np.array([5, 6])\n",
        "y = np.array([3, 4])\n",
        "\n",
        "lambda_ = 6\n",
        "\n",
        "def eukl(dot):\n",
        "\n",
        "  succ = True\n",
        "\n",
        "  if not isclose(dot(x, y), dot(y, x)):\n",
        "    succ = False\n",
        "  if not isclose(dot(np.dot(lambda_, x), y), lambda_ * dot(x, y)):\n",
        "    succ = False\n",
        "  if not isclose(dot(x + x_1, y), (dot(x, y) + dot(x_1, y))):\n",
        "    succ = False\n",
        "  if dot(x, x) < 0 or dot(0, 0) != 0:\n",
        "    succ = False\n",
        "  \n",
        "  return succ\n",
        "\n",
        "print('Произведение длин векторов')\n",
        "if (eukl(dot_1) == True):\n",
        "  print('Является евклидовым пространством')\n",
        "else:\n",
        "  print('Не является евклидовым пространством')\n",
        "\n",
        "print('-' * 100)\n",
        "\n",
        "print('Утроенное скалярное произведение')\n",
        "print('Является евклидовым пространством' if eukl(dot_2) else 'Не является евклидовым пространством')"
      ],
      "execution_count": null,
      "outputs": [
        {
          "output_type": "stream",
          "name": "stdout",
          "text": [
            "Произведение длин векторов\n",
            "Не является евклидовым пространством\n",
            "----------------------------------------------------------------------------------------------------\n",
            "Утроенное скалярное произведение\n",
            "Является евклидовым пространством\n"
          ]
        }
      ]
    },
    {
      "cell_type": "markdown",
      "metadata": {
        "id": "go-OypRYcITH"
      },
      "source": [
        "__4.__ Какие из нижеперечисленных векторов образуют ортонормированный базис в линейном пространстве $\\mathbb{R}^{3}$:<br>\n",
        "\n",
        "а) $(1,0,0),(0,0,1);$ <br>\n",
        "\n",
        "$(x,y)=1\\cdot 0+0\\cdot 0+ 0\\cdot 1=0$<br>\n",
        "x и y ортонормированны, но не образуют базис, т.к. пространство $\\mathbb{R}^{3}$<br>\n",
        "<br>\n"
      ]
    },
    {
      "cell_type": "code",
      "metadata": {
        "colab": {
          "base_uri": "https://localhost:8080/"
        },
        "id": "QxUFxzpYr2nC",
        "outputId": "f0ff4a61-a86a-469d-8db9-f190a6d297b9"
      },
      "source": [
        "import itertools\n",
        "\n",
        "x = np.array([1, 0, 0])\n",
        "y = np.array([0, 0, 1])\n",
        "\n",
        "list_vectors = [x, y]\n",
        "\n",
        "# for i in list_vectors:\n",
        "#   for j in list_vectors:\n",
        "#     if not np.array_equal(i, j):\n",
        "#       print(np.dot(i, j))\n",
        "\n",
        "# print(np.dot(list_vectors[0], list_vectors[1]))\n",
        "# print(itertools.combinations(list_vectors, 2))\n",
        "\n",
        "for item in itertools.combinations(list_vectors, 2):\n",
        "  print(np.dot(item[0], item[1]))\n",
        "  print('Ортонормированны' if (isclose(np.dot(item[0], item[1]), 0)) else 'Не ортонормированны')\n",
        "\n",
        "# Не образуют базис, т.к. их всего два"
      ],
      "execution_count": null,
      "outputs": [
        {
          "output_type": "stream",
          "name": "stdout",
          "text": [
            "0\n",
            "Ортонормированны\n"
          ]
        }
      ]
    },
    {
      "cell_type": "markdown",
      "metadata": {
        "id": "O2R2BgrO9N5f"
      },
      "source": [
        "б) $(1/\\sqrt{2},-1/\\sqrt{2},0),(1/\\sqrt{2},1/\\sqrt{2},0), (0,0,1);$<br>\n",
        "\n",
        "$(x, y)=\\frac{1}{\\sqrt{2}}\\cdot\\frac{1}{\\sqrt{2}} + (-\\frac{1}{\\sqrt{2}})\\cdot\\frac{1}{\\sqrt{2}}+0=0$\n",
        "\n",
        "$(x, z)=\\frac{1}{\\sqrt{2}}\\cdot0 + (-\\frac{1}{\\sqrt{2}})\\cdot0+0\\cdot 1=0$\n",
        "\n",
        "$(y, z)=\\frac{1}{\\sqrt{2}}\\cdot 0 + \\frac{1}{\\sqrt{2}}\\cdot 0+0\\cdot1=0$\n",
        "\n",
        "Векторы x, y, z ортонормированны. И образуют базис.<br>\n",
        "<br>\n"
      ]
    },
    {
      "cell_type": "code",
      "metadata": {
        "colab": {
          "base_uri": "https://localhost:8080/"
        },
        "id": "ntvCa_ct9b9H",
        "outputId": "3559b6a7-85bd-4ccf-e0f1-f0a1f3f50984"
      },
      "source": [
        "import itertools\n",
        "\n",
        "x = np.array([1/np.sqrt(2), - 1/np.sqrt(2), 0])\n",
        "y = np.array([1/np.sqrt(2), 1/np.sqrt(2), 0])\n",
        "z = np.array([0, 0, 1])\n",
        "\n",
        "list_vectors = [x, y, z]\n",
        "\n",
        "# print(np.dot(list_vectors[0], list_vectors[1]))\n",
        "\n",
        "# print(itertools.combinations(list_vectors, 2))\n",
        "\n",
        "for item in itertools.combinations(list_vectors, 2):\n",
        "  print(np.dot(item[0], item[1]))\n",
        "  print('Ортонормированны' if (isclose(np.dot(item[0], item[1]), 0, abs_tol=0.0000000000000001)) else 'Не ортонормированны')"
      ],
      "execution_count": null,
      "outputs": [
        {
          "output_type": "stream",
          "name": "stdout",
          "text": [
            "-2.2371143170757382e-17\n",
            "Ортонормированны\n",
            "0.0\n",
            "Ортонормированны\n",
            "0.0\n",
            "Ортонормированны\n"
          ]
        }
      ]
    },
    {
      "cell_type": "markdown",
      "metadata": {
        "id": "2rtIGb2f9Re4"
      },
      "source": [
        "в) $(1/2, -1/2, 0), (0, 1/2, 1/2), (0,0,1);$<br>\n",
        "\n",
        "$(x, y) = \\frac{1}{2}\\cdot 0 - \\frac{1}{2} \\cdot \\frac{1}{2} + 0 \\cdot \\frac{1}{2} = - \\frac{1}{4}$<br>\n",
        "\n",
        "$(x, z)=\\frac{1}{2}\\cdot0 -\\frac{1}{2} \\cdot 0 + 0 \\cdot 1=0$<br>\n",
        "\n",
        "$(y, z)= 0 \\cdot 0 + \\frac{1}{2}\\cdot0 + \\frac{1}{2} \\cdot 1=\\frac{1}{2}$<br>\n",
        "Векторы не ортонормированны. Не образуют базис.\n",
        "<br>"
      ]
    },
    {
      "cell_type": "code",
      "metadata": {
        "colab": {
          "base_uri": "https://localhost:8080/"
        },
        "id": "wa9nVVmn-p5r",
        "outputId": "2a9ef899-f7f0-4506-a4a5-5fd73c7e9ed6"
      },
      "source": [
        "import itertools\n",
        "\n",
        "x = np.array([1/2, -1/2, 0])\n",
        "y = np.array([0, 1/2, 1/2])\n",
        "z = np.array([0, 0, 1])\n",
        "\n",
        "list_vectors = [x, y, z]\n",
        "\n",
        "for item in itertools.combinations(list_vectors, 2):\n",
        "  print(np.dot(item[0], item[1]))\n",
        "  print('Ортонормированны' if (isclose(np.dot(item[0], item[1]), 0, abs_tol=0.01)) else 'Не ортонормированны')\n",
        "  # if (np.dot(item[0], item[1])):\n",
        "  #   print('Не ортонормированны')"
      ],
      "execution_count": null,
      "outputs": [
        {
          "output_type": "stream",
          "name": "stdout",
          "text": [
            "-0.25\n",
            "Не ортонормированны\n",
            "0.0\n",
            "Ортонормированны\n",
            "0.5\n",
            "Не ортонормированны\n"
          ]
        }
      ]
    },
    {
      "cell_type": "markdown",
      "metadata": {
        "id": "65v2lZIQ9T1d"
      },
      "source": [
        "г) $(1,0,0),(0,1,0),(0,0,1)?$\n",
        "<br>\n",
        "$(x, y) = 1 \\cdot 0 - 0 \\cdot 1 + 0 \\cdot 0 = 0$<br>\n",
        "\n",
        "$(x, z) = 1\\cdot 0 - 0 \\cdot 0 + 0 \\cdot 1 = 0$<br>\n",
        "\n",
        "$(y, z)= 0 \\cdot 0 + 1 \\cdot 0 + 0 \\cdot 1 = 0$<br>\n",
        "\n",
        "Все векторы ортонормированны. Образуют базис."
      ]
    },
    {
      "cell_type": "code",
      "metadata": {
        "colab": {
          "base_uri": "https://localhost:8080/"
        },
        "id": "2Y0ejHaNTwXk",
        "outputId": "f1830698-7d99-41ad-ee6f-f8a26d464528"
      },
      "source": [
        "import itertools\n",
        "\n",
        "x = np.array([1, 0, 0])\n",
        "y = np.array([0, 1, 0])\n",
        "z = np.array([0, 0, 1])\n",
        "\n",
        "list_vectors = [x, y, z]\n",
        "\n",
        "for item in itertools.combinations(list_vectors, 2):\n",
        "  print(np.dot(item[0], item[1]))\n",
        "  print('Ортонормированны' if (isclose(np.dot(item[0], item[1]), 0, abs_tol=0.01)) else 'Не ортонормированны')\n",
        "  # if (np.dot(item[0], item[1])):\n",
        "  #   print('Не ортонормированны')"
      ],
      "execution_count": null,
      "outputs": [
        {
          "output_type": "stream",
          "name": "stdout",
          "text": [
            "0\n",
            "Ортонормированны\n",
            "0\n",
            "Ортонормированны\n",
            "0\n",
            "Ортонормированны\n"
          ]
        }
      ]
    }
  ]
}